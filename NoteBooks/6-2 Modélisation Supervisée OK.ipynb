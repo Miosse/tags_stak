{
 "cells": [
  {
   "cell_type": "code",
   "execution_count": 1,
   "metadata": {},
   "outputs": [],
   "source": [
    "import pandas as pd\n",
    "import numpy as np\n",
    "import matplotlib.pyplot as plt\n",
    "\n",
    "from bs4 import BeautifulSoup\n",
    "\n",
    "import nltk\n",
    "import datetime\n",
    "from sklearn.feature_extraction.text import CountVectorizer\n",
    "from sklearn.feature_extraction.text import TfidfTransformer\n",
    "from sklearn.model_selection import train_test_split"
   ]
  },
  {
   "cell_type": "code",
   "execution_count": 2,
   "metadata": {},
   "outputs": [],
   "source": [
    "file1 = 'data/QueryResults3_new.csv'\n",
    "df1 = pd.read_csv(file1,index_col=['Id'])\n",
    "\n",
    "import mes_fonctions_final2 as stt"
   ]
  },
  {
   "cell_type": "code",
   "execution_count": 3,
   "metadata": {},
   "outputs": [],
   "source": [
    "StopWord = stt.load_stop_word()"
   ]
  },
  {
   "cell_type": "markdown",
   "metadata": {},
   "source": [
    "# Chargement des Tags\n",
    "> Nous chargeons les tags transformés en Dummy features (une colonne par tag en binaire)\n",
    ">\n",
    "> Nous n'allons considérer que les tags cités au moins 300 fois (en dessous la représentation risque de n'être pas suffisamment bonne)"
   ]
  },
  {
   "cell_type": "code",
   "execution_count": 4,
   "metadata": {},
   "outputs": [
    {
     "name": "stdout",
     "output_type": "stream",
     "text": [
      "/!\\ Ajout des features en cours\n"
     ]
    }
   ],
   "source": [
    "Y_tags, Y_tags_voc = stt.genere_target_dummy_and_vocabulary(data=df1, min_df=300)\n",
    "Tags_freq = stt.genere_df_target_tags_freq(data=df1, min_df=300)"
   ]
  },
  {
   "cell_type": "markdown",
   "metadata": {},
   "source": [
    "# Rappel des fonctions utiles"
   ]
  },
  {
   "cell_type": "code",
   "execution_count": 5,
   "metadata": {},
   "outputs": [],
   "source": [
    "from nltk.stem.snowball import EnglishStemmer\n",
    "stemmer = EnglishStemmer()\n",
    "\n",
    "def preProcess_remove_Code(html_in):\n",
    "    # Chargement du module BeautifulSoup pour le parsing des données HTML\n",
    "    from bs4 import BeautifulSoup\n",
    "    html_in_soup = BeautifulSoup(html_in, 'html.parser')\n",
    "\n",
    "    # Suppression des blocs de Code\n",
    "    for h_code in html_in_soup.find_all('code'):\n",
    "        h_code.decompose()\n",
    "\n",
    "    return html_in_soup.get_text().lower()\n",
    "\n",
    "\n",
    "def preProcess_keep_Code(html_in):\n",
    "    # Chargement du module BeautifulSoup pour le parsing des données HTML\n",
    "    from bs4 import BeautifulSoup\n",
    "    html_in_soup = BeautifulSoup(html_in, 'html.parser')\n",
    "\n",
    "    return html_in_soup.get_text().lower()\n",
    "\n",
    "# Le préprocessing :\n",
    "#   - nettoie le html\n",
    "#   - supprime les blocs de Code\n",
    "#   - ne prend que la partie textuelle du html\n",
    "#   - renvoie ce texte en minuscule\n",
    "\n",
    "\n",
    "def preProcess(html_in):\n",
    "    # Chargement du module BeautifulSoup pour le parsing des données HTML\n",
    "    from bs4 import BeautifulSoup\n",
    "    html_in_soup = BeautifulSoup(html_in, 'html.parser')\n",
    "\n",
    "    # Suppression des blocs de Code\n",
    "    for h_code in html_in_soup.find_all('code'):\n",
    "        h_code.decompose()\n",
    "\n",
    "    return html_in_soup.get_text().lower()\n",
    "\n",
    "\n",
    "# Réalisation du stemming (on coupe les racines)\n",
    "def stem_tokens(tokens, stemmer):\n",
    "    stemmed = []\n",
    "    for item in tokens:\n",
    "        stemmed.append(stemmer.stem(item))\n",
    "    return stemmed\n",
    "\n",
    "\n",
    "# La tokenisation :\n",
    "\n",
    "\n",
    "def tokenize(text):\n",
    "    m_token_pattern = r\"((?:(?:(?:[0-9a-zA-Z])\\.){2,}[a-zA-Z])\" +\\\n",
    "        \"|(?:(?:[0-9a-zA-Z]){2,}\\.(?:[0-9a-zA-Z]){2,}\" +\\\n",
    "        \"|(?:\\.(?:[0-9a-zA-Z]){2,}))\" +\\\n",
    "        \"|[0-9a-zA-Z-\\-\\+\\#]{2,}|w+)\"\n",
    "\n",
    "    from nltk.tokenize import RegexpTokenizer\n",
    "    # Nous allons utiliser le pattern pour identifier les mots\n",
    "    tokenizer = RegexpTokenizer(m_token_pattern)\n",
    "\n",
    "    # Nous lançons la séparation des mots\n",
    "    tokens = tokenizer.tokenize(text)\n",
    "\n",
    "    # On fait appel au stemming pour rapprocher les mots de même racine\n",
    "    stems = stem_tokens(tokens, stemmer)\n",
    "\n",
    "    # Etape de nettoyage des valeurs :\n",
    "    # Nous allons supprimer les nombres sans texte,\n",
    "    def suppress_nb(x):\n",
    "        import re\n",
    "        if x is None:\n",
    "            return None\n",
    "        pattern = r'(^[\\#\\-\\+]*[0-9]*$|' + '^[0-9]*[\\#\\-\\+]*$|'+'^[0-9]*[\\#\\-\\+]?[0-9]*$|'+'^[0-9\\#\\-\\+][a-z]$|'+'^[a-z][0-9\\#\\-\\+]$|'+'^[0-9]*\\.[0-9]*$)'\n",
    "        if not(re.match(pattern, x)):\n",
    "            return x\n",
    "\n",
    "    def nettoie_points(x):\n",
    "        import re\n",
    "        if x is None:\n",
    "            return None\n",
    "\n",
    "        if (re.match(r'(^[\\.\\-\\#][a-z]*$)', x)):\n",
    "            return ''.join(list(x)[1:])\n",
    "        else:\n",
    "            return x\n",
    "\n",
    "    # Nous filtrons les nombres seuls\n",
    "    stems = list(filter(lambda x: suppress_nb(x), stems))\n",
    "    stems = [nettoie_points(x) for x in stems]\n",
    "    return stems"
   ]
  },
  {
   "cell_type": "markdown",
   "metadata": {},
   "source": [
    "# Séparation des données \n",
    "> On sépare nos données d'entrainement de celles de test avec un rapport 80 / 20"
   ]
  },
  {
   "cell_type": "code",
   "execution_count": 30,
   "metadata": {},
   "outputs": [
    {
     "name": "stdout",
     "output_type": "stream",
     "text": [
      "Fin Train_Split : 0:00:00.057806\n"
     ]
    }
   ],
   "source": [
    "# On sépare les données d'entrainement de celles de tests\n",
    "debut = datetime.datetime.now()\n",
    "X = df1['Body']\n",
    "\n",
    "X_train, X_test, Y_train, Y_test = train_test_split(X, Y_tags, test_size=0.2, random_state=42 )\n",
    "fin = datetime.datetime.now()\n",
    "print(\"Fin Train_Split : {}\".format(fin-debut))"
   ]
  },
  {
   "cell_type": "markdown",
   "metadata": {},
   "source": [
    "# Quelle mesure ?\n",
    "> Nous allons d'abord faire une modélisation rapide via une naive Bayes sur le tag 'python'"
   ]
  },
  {
   "cell_type": "code",
   "execution_count": 31,
   "metadata": {},
   "outputs": [
    {
     "name": "stdout",
     "output_type": "stream",
     "text": [
      "Fin vect_count : 0:01:21.310952\n",
      "Fin TF-IDF : 0:00:00.011199\n",
      "Fin MODELISATION NAIVE BAYES : 0:00:00.025342\n",
      "\n",
      "TOTAL 0:01:21.347833\n"
     ]
    }
   ],
   "source": [
    "from sklearn.naive_bayes import MultinomialNB\n",
    "\n",
    "# Estimateurs\n",
    "vect_count = CountVectorizer(\n",
    "        analyzer=\"word\",\n",
    "        # On fait varier la fréquence min pour la prise en compte des mots\n",
    "        min_df=500,\n",
    "        tokenizer=tokenize,\n",
    "        # token_pattern=m_token_pattern,\n",
    "        preprocessor=preProcess,\n",
    "        stop_words=StopWord,        # Pas de stopWord car nous les cherchons\n",
    "        ngram_range=(1, 6),   # Nous ne prenons que le 1-Gram\n",
    "        )\n",
    "\n",
    "tfidf = TfidfTransformer()\n",
    "\n",
    "# Classifiers Naive Bayes\n",
    "clf1 = MultinomialNB()\n",
    "clf2 = MultinomialNB()\n",
    "\n",
    "# 0 - Debut des Opérations: Préparation des données\n",
    "debut_0 = datetime.datetime.now()\n",
    "\n",
    "# 1 - On entraine et transforme via CountVectorizer\n",
    "debut = datetime.datetime.now()\n",
    "X_1 = vect_count.fit_transform(X_train)\n",
    "fin = datetime.datetime.now()\n",
    "print(\"Fin vect_count : {}\".format(fin-debut))\n",
    "\n",
    "# 2 - On fait la transformation TF-IDF\n",
    "debut = datetime.datetime.now()\n",
    "X_2 = tfidf.fit_transform(X_1)\n",
    "fin = datetime.datetime.now()\n",
    "print(\"Fin TF-IDF : {}\".format(fin-debut))\n",
    "\n",
    "# 3 - On entraine via le Naive Bayes \n",
    "# ## On le fait pour 2 tags : python (très fréquent) / ios (moins fréquent)\n",
    "debut = datetime.datetime.now()\n",
    "clf1.fit(X_2, Y_train['python'].to_dense().ravel())\n",
    "clf2.fit(X_2, Y_train['ios'].to_dense().ravel())\n",
    "fin = datetime.datetime.now()\n",
    "print(\"Fin MODELISATION NAIVE BAYES : {}\".format(fin-debut))\n",
    "\n",
    "print('\\nTOTAL {}'.format(fin-debut_0))"
   ]
  },
  {
   "cell_type": "markdown",
   "metadata": {},
   "source": [
    "## Mesure de la modélisation\n",
    "### Transformation de X via CountVectorizer et TF-IDF"
   ]
  },
  {
   "cell_type": "code",
   "execution_count": 32,
   "metadata": {},
   "outputs": [
    {
     "name": "stdout",
     "output_type": "stream",
     "text": [
      "Fin CountVectorizer : 0:00:16.089367\n",
      "Fin Tf-IDF : 0:00:00.002489\n"
     ]
    }
   ],
   "source": [
    "# On transforme d'abord les données de X_test\n",
    "debut_0 = datetime.datetime.now()\n",
    "\n",
    "# 1- CountVectorizer\n",
    "debut = datetime.datetime.now()\n",
    "X_test_1 = vect_count.transform(X_test)\n",
    "fin = datetime.datetime.now()\n",
    "print(\"Fin CountVectorizer : {}\".format(fin-debut))\n",
    "\n",
    "# 2 - Tf-IDF\n",
    "debut = datetime.datetime.now()\n",
    "X_test_2 = tfidf.transform(X_test_1)\n",
    "fin = datetime.datetime.now()\n",
    "print(\"Fin Tf-IDF : {}\".format(fin-debut))"
   ]
  },
  {
   "cell_type": "markdown",
   "metadata": {},
   "source": [
    "### Prédiction Naive Bayes"
   ]
  },
  {
   "cell_type": "code",
   "execution_count": 33,
   "metadata": {},
   "outputs": [
    {
     "name": "stdout",
     "output_type": "stream",
     "text": [
      "Fin PREDICTION -- Naives Bayes : 0:00:00.002137\n"
     ]
    }
   ],
   "source": [
    "# 3 - Modélisation Naives Bayes\n",
    "debut = datetime.datetime.now()\n",
    "Y_pred_python = clf1.predict(X_test_2)\n",
    "Y_pred_ios = clf2.predict(X_test_2)\n",
    "\n",
    "fin = datetime.datetime.now()\n",
    "print(\"Fin PREDICTION -- Naives Bayes : {}\".format(fin-debut))"
   ]
  },
  {
   "cell_type": "markdown",
   "metadata": {},
   "source": [
    "### Mesure par Accuracy"
   ]
  },
  {
   "cell_type": "code",
   "execution_count": 40,
   "metadata": {},
   "outputs": [
    {
     "name": "stdout",
     "output_type": "stream",
     "text": [
      "Python Accuracy : 0.8912\n",
      "Ios Accuracy : 0.9779\n"
     ]
    }
   ],
   "source": [
    "from sklearn.metrics import accuracy_score\n",
    "from sklearn.metrics import precision_score, recall_score, roc_auc_score, f1_score\n",
    "from sklearn.metrics import confusion_matrix\n",
    "\n",
    "print('Python Accuracy : {}\\nIos Accuracy : {}'.format(\n",
    "    accuracy_score(y_true=Y_test['python'].to_dense().ravel(), y_pred=Y_pred_python),\n",
    "    accuracy_score(y_true=Y_test['ios'].to_dense().ravel(), y_pred=Y_pred_ios)))"
   ]
  },
  {
   "cell_type": "markdown",
   "metadata": {},
   "source": [
    "> Les résultats sont élevés : et très élevé pour IOS mais regardons la matrice de confusion"
   ]
  },
  {
   "cell_type": "code",
   "execution_count": 44,
   "metadata": {},
   "outputs": [
    {
     "name": "stdout",
     "output_type": "stream",
     "text": [
      "Matrice de Confusion de Python : \n",
      "[[8874    9]\n",
      " [1079   38]]\n"
     ]
    }
   ],
   "source": [
    "print('Matrice de Confusion de Python : \\n{}'.format(\n",
    "    confusion_matrix(y_true=Y_test['python'].to_dense().ravel(), y_pred=Y_pred_python)))"
   ]
  },
  {
   "cell_type": "code",
   "execution_count": 53,
   "metadata": {},
   "outputs": [
    {
     "name": "stdout",
     "output_type": "stream",
     "text": [
      "Matrice de Confusion de Ios : \n",
      "[[9779    0]\n",
      " [ 221    0]]\n"
     ]
    }
   ],
   "source": [
    "print('Matrice de Confusion de Ios : \\n{}'.format(\n",
    "    confusion_matrix(y_true=Y_test['ios'].to_dense().ravel(), y_pred=Y_pred_ios)))"
   ]
  },
  {
   "cell_type": "markdown",
   "metadata": {},
   "source": [
    "On constate (comme c'est souvent le cas pour les classifications binaires) que les scores sont élevés mais ne sont pas représentatifs du problème.\n",
    "\n",
    "- Très peu de tags ont été prédits pour python et aucun pour IOS (par défaut on a plutôt prédit la non présence) \n",
    "- Les faux sont les seules prédictions de présence du tag pour IOS, meilleur pour Python mais reste faible\n",
    "\n",
    "\n",
    "- Nous avons donc besoin de mesurer en même temps\n",
    "    - la sensibilité (recall en anglais) qui met en évidence, parmi les données réellement positives, le taux de prédiction par rapport au total des positives\n",
    "    - la précision qui met en évidence, parmi les prédictions de 'Vrais', le taux de valeurs bonnes sur le total des prédites comme 'Vrai'\n",
    "    \n",
    "\n",
    "=> Une mesure est adaptée pour cela : c'est le F1-Score, moyenne harmonique de la sensibilité et de la précision qui met en évidence les faibles valeurs\n",
    "> C'est cette mesure que nous allons utiliser pour la méthode supervisée pour chaque tag\n",
    "> \n",
    "> Pour la mesure complète du modèle : nous ferons la moyenne de ces f1-score pour l'ensemble des tags"
   ]
  },
  {
   "cell_type": "code",
   "execution_count": 54,
   "metadata": {},
   "outputs": [
    {
     "name": "stdout",
     "output_type": "stream",
     "text": [
      "Python F1_score : 0.06529209621993126\n",
      "Ios F1_score : 0.0\n"
     ]
    },
    {
     "name": "stderr",
     "output_type": "stream",
     "text": [
      "/Users/seb/anaconda/lib/python3.6/site-packages/sklearn/metrics/classification.py:1135: UndefinedMetricWarning: F-score is ill-defined and being set to 0.0 due to no predicted samples.\n",
      "  'precision', 'predicted', average, warn_for)\n"
     ]
    }
   ],
   "source": [
    "print('Python F1_score : {}\\nIos F1_score : {}'.format(\n",
    "    f1_score(y_true=Y_test['python'].to_dense().ravel(), y_pred=Y_pred_python),\n",
    "    f1_score(y_true=Y_test['ios'].to_dense().ravel(), y_pred=Y_pred_ios)))"
   ]
  },
  {
   "cell_type": "code",
   "execution_count": null,
   "metadata": {},
   "outputs": [],
   "source": []
  },
  {
   "cell_type": "markdown",
   "metadata": {},
   "source": [
    "# Bloc Code ou Non ?\n",
    "> Nous relançons les tests sur python et IOS, cette fois en prenant en compte les bloc Code (nous avons vu dans la partie exploratoire que ceux-ci semblaient apporter des termes importants supplémentaires voyons s'ils apportent quelque chose à la modélisation)"
   ]
  },
  {
   "cell_type": "code",
   "execution_count": 56,
   "metadata": {},
   "outputs": [
    {
     "name": "stdout",
     "output_type": "stream",
     "text": [
      "Fin vect_count : 0:02:47.570023\n",
      "Fin TF-IDF : 0:00:00.025101\n",
      "Fin MODELISATION NAIVE BAYES : 0:00:00.033560\n",
      "\n",
      "TOTAL 0:02:47.629213\n",
      "Fin CountVectorizer : 0:00:28.201522\n",
      "Fin Tf-IDF : 0:00:00.007121\n",
      "Fin PREDICTION -- Naives Bayes : 0:00:00.001983\n"
     ]
    }
   ],
   "source": [
    "from sklearn.naive_bayes import MultinomialNB\n",
    "\n",
    "# Estimateurs\n",
    "vect_count = CountVectorizer(\n",
    "        analyzer=\"word\",\n",
    "        # On fait varier la fréquence min pour la prise en compte des mots\n",
    "        min_df=500,\n",
    "        tokenizer=tokenize,\n",
    "        # token_pattern=m_token_pattern,\n",
    "        preprocessor=preProcess_keep_Code,\n",
    "        stop_words=StopWord,        # Pas de stopWord car nous les cherchons\n",
    "        ngram_range=(1, 6),   # Nous ne prenons que le 1-Gram\n",
    "        )\n",
    "\n",
    "tfidf = TfidfTransformer()\n",
    "\n",
    "# Classifiers Naive Bayes\n",
    "clf1 = MultinomialNB()\n",
    "clf2 = MultinomialNB()\n",
    "\n",
    "# 0 - Debut des Opérations: Préparation des données\n",
    "debut_0 = datetime.datetime.now()\n",
    "\n",
    "# 1 - On entraine et transforme via CountVectorizer\n",
    "debut = datetime.datetime.now()\n",
    "X_1 = vect_count.fit_transform(X_train)\n",
    "fin = datetime.datetime.now()\n",
    "print(\"Fin vect_count : {}\".format(fin-debut))\n",
    "\n",
    "# 2 - On fait la transformation TF-IDF\n",
    "debut = datetime.datetime.now()\n",
    "X_2 = tfidf.fit_transform(X_1)\n",
    "fin = datetime.datetime.now()\n",
    "print(\"Fin TF-IDF : {}\".format(fin-debut))\n",
    "\n",
    "# 3 - On entraine via le Naive Bayes \n",
    "# ## On le fait pour 2 tags : python (très fréquent) / ios (moins fréquent)\n",
    "debut = datetime.datetime.now()\n",
    "clf1.fit(X_2, Y_train['python'].to_dense().ravel())\n",
    "clf2.fit(X_2, Y_train['ios'].to_dense().ravel())\n",
    "fin = datetime.datetime.now()\n",
    "print(\"Fin MODELISATION NAIVE BAYES : {}\".format(fin-debut))\n",
    "\n",
    "print('\\nTOTAL {}'.format(fin-debut_0))\n",
    "\n",
    "\n",
    "# Nous allons mesurer\n",
    "\n",
    "# On transforme d'abord les données de X_test\n",
    "debut_0 = datetime.datetime.now()\n",
    "\n",
    "# 1- CountVectorizer\n",
    "debut = datetime.datetime.now()\n",
    "X_test_1 = vect_count.transform(X_test)\n",
    "fin = datetime.datetime.now()\n",
    "print(\"Fin CountVectorizer : {}\".format(fin-debut))\n",
    "\n",
    "# 2 - Tf-IDF\n",
    "debut = datetime.datetime.now()\n",
    "X_test_2 = tfidf.transform(X_test_1)\n",
    "fin = datetime.datetime.now()\n",
    "print(\"Fin Tf-IDF : {}\".format(fin-debut))\n",
    "\n",
    "# Prédiction de Y\n",
    "debut = datetime.datetime.now()\n",
    "Y_pred_python = clf1.predict(X_test_2)\n",
    "Y_pred_ios = clf2.predict(X_test_2)\n",
    "\n",
    "fin = datetime.datetime.now()\n",
    "print(\"Fin PREDICTION -- Naives Bayes : {}\".format(fin-debut))"
   ]
  },
  {
   "cell_type": "code",
   "execution_count": null,
   "metadata": {},
   "outputs": [],
   "source": []
  },
  {
   "cell_type": "code",
   "execution_count": 66,
   "metadata": {},
   "outputs": [
    {
     "name": "stdout",
     "output_type": "stream",
     "text": [
      "Fin vect_count : 0:02:48.266952\n",
      "Fin TF-IDF : 0:00:00.019414\n",
      "Fin MODELISATION NAIVE BAYES : 0:00:00.019161\n",
      "\n",
      "TOTAL 0:02:48.305884\n",
      "Fin CountVectorizer : 0:00:27.638228\n",
      "Fin Tf-IDF : 0:00:00.004670\n",
      "Fin PREDICTION -- Naives Bayes : 0:00:00.002112\n"
     ]
    }
   ],
   "source": [
    "import mes_fonctions_final22 as stt2\n",
    "\n",
    "Y_pred_python, Y_pred_ios = stt2.test_diff_min_df(min_df=500,  \n",
    "                 X_train=X_train, Y_train=Y_train, X_test=X_test, \n",
    "                 clf=MultinomialNB())"
   ]
  },
  {
   "cell_type": "code",
   "execution_count": 67,
   "metadata": {},
   "outputs": [
    {
     "name": "stdout",
     "output_type": "stream",
     "text": [
      "Python F1_score : 0.30377906976744184\n",
      "Ios F1_score : 0.017937219730941707\n"
     ]
    }
   ],
   "source": [
    "print('Python F1_score : {}\\nIos F1_score : {}'.format(\n",
    "    f1_score(y_true=Y_test['python'].to_dense().ravel(), y_pred=Y_pred_python),\n",
    "    f1_score(y_true=Y_test['ios'].to_dense().ravel(), y_pred=Y_pred_ios)))"
   ]
  },
  {
   "cell_type": "code",
   "execution_count": 68,
   "metadata": {},
   "outputs": [
    {
     "name": "stdout",
     "output_type": "stream",
     "text": [
      "Matrice de Confusion de Python : \n",
      "[[8833   50]\n",
      " [ 908  209]]\n",
      "Matrice de Confusion de Ios : \n",
      "[[9779    0]\n",
      " [ 219    2]]\n"
     ]
    }
   ],
   "source": [
    "print('Matrice de Confusion de Python : \\n{}'.format(\n",
    "    confusion_matrix(y_true=Y_test['python'].to_dense().ravel(), y_pred=Y_pred_python)))\n",
    "print('Matrice de Confusion de Ios : \\n{}'.format(\n",
    "    confusion_matrix(y_true=Y_test['ios'].to_dense().ravel(), y_pred=Y_pred_ios)))"
   ]
  },
  {
   "cell_type": "markdown",
   "metadata": {},
   "source": [
    "> On remarque que les résultats sont bien meilleurs avec la prise en compte du bloc Code : pour python d'abord \n",
    "> ensuite pour ios pour lequel nous avons réussi à prédire des valeurs\n",
    "> \n",
    "> Nous allons donc le prendre en compte dans le reste de notre étude"
   ]
  },
  {
   "cell_type": "markdown",
   "metadata": {},
   "source": [
    "## Changement de classifier : utilisons une Régression Logistic"
   ]
  },
  {
   "cell_type": "code",
   "execution_count": 72,
   "metadata": {},
   "outputs": [
    {
     "name": "stdout",
     "output_type": "stream",
     "text": [
      "Fin vect_count : 0:02:43.263679\n",
      "Fin TF-IDF : 0:00:00.018442\n",
      "Fin MODELISATION CLASSIFICATION : 0:00:01.539499\n",
      "\n",
      "TOTAL 0:02:44.822251\n",
      "Fin CountVectorizer : 0:00:27.562848\n",
      "Fin Tf-IDF : 0:00:00.004766\n",
      "Fin PREDICTION -- CLASSIFICATION : 0:00:00.000906\n"
     ]
    }
   ],
   "source": [
    "from sklearn.linear_model import LogisticRegression\n",
    "\n",
    "Y_pred_python, Y_pred_ios = stt2.test_diff_min_df(min_df=500,  \n",
    "                 X_train=X_train, Y_train=Y_train, X_test=X_test, \n",
    "                 clf=LogisticRegression(random_state=0, solver='lbfgs', multi_class='multinomial'))"
   ]
  },
  {
   "cell_type": "code",
   "execution_count": 73,
   "metadata": {},
   "outputs": [
    {
     "name": "stdout",
     "output_type": "stream",
     "text": [
      "Python f1_score : 0.6065573770491803\n",
      "Ios Accuracy : 0.44236760124610597\n"
     ]
    }
   ],
   "source": [
    "print('Python f1_score : {}\\nIos Accuracy : {}'.format(\n",
    "    f1_score(y_true=Y_test['python'].to_dense().ravel(), y_pred=Y_pred_python),\n",
    "    f1_score(y_true=Y_test['ios'].to_dense().ravel(), y_pred=Y_pred_ios)))"
   ]
  },
  {
   "cell_type": "markdown",
   "metadata": {},
   "source": [
    "> Les résultats sont nettement supérieurs"
   ]
  },
  {
   "cell_type": "markdown",
   "metadata": {},
   "source": [
    "# Test sur le nombre de min_df\n",
    "> Nous allons tester différentes valeurs de min_df sur tous les tags sélectionnés\n",
    ">\n",
    "> Nous allons ainsi pouvoir envisager une réduction dimensionnelle via la valeur min_df"
   ]
  },
  {
   "cell_type": "code",
   "execution_count": 79,
   "metadata": {},
   "outputs": [
    {
     "data": {
      "text/plain": [
       "<module 'mes_fonctions_final22' from '/Users/seb/Workspace/Dev/Formation-OC/Formation-Data-Scientist/Projet6-Categoriser_Automatiquement_des_Questions/NoteBooks/PROJET_A_LIVRER/mes_fonctions_final22.py'>"
      ]
     },
     "execution_count": 79,
     "metadata": {},
     "output_type": "execute_result"
    }
   ],
   "source": [
    "imp.reload(stt2)"
   ]
  },
  {
   "cell_type": "code",
   "execution_count": 81,
   "metadata": {},
   "outputs": [
    {
     "name": "stdout",
     "output_type": "stream",
     "text": [
      "Fin vect_count : 0:02:44.025315\n",
      "Fin TF-IDF : 0:00:00.034549\n",
      "Fin CountVectorizer : 0:00:29.934199\n",
      "Fin Tf-IDF : 0:00:00.009546\n",
      "Fin MODELISATION CLASSIFICATION : 0:00:47.914604\n",
      "\n",
      "TOTAL 0:04:01.919032\n",
      "Fin vect_count : 0:02:44.126199\n",
      "Fin TF-IDF : 0:00:00.028892\n",
      "Fin CountVectorizer : 0:00:28.175389\n",
      "Fin Tf-IDF : 0:00:00.007290\n",
      "Fin MODELISATION CLASSIFICATION : 0:00:41.715845\n",
      "\n",
      "TOTAL 0:03:54.054277\n",
      "Fin vect_count : 0:02:48.744360\n",
      "Fin TF-IDF : 0:00:00.024034\n",
      "Fin CountVectorizer : 0:00:28.351252\n",
      "Fin Tf-IDF : 0:00:00.006361\n",
      "Fin MODELISATION CLASSIFICATION : 0:00:37.466096\n",
      "\n",
      "TOTAL 0:03:54.592706\n",
      "Fin vect_count : 0:02:48.195138\n",
      "Fin TF-IDF : 0:00:00.021560\n",
      "Fin CountVectorizer : 0:00:28.368259\n",
      "Fin Tf-IDF : 0:00:00.005042\n",
      "Fin MODELISATION CLASSIFICATION : 0:00:35.763993\n",
      "\n",
      "TOTAL 0:03:52.354513\n",
      "Fin vect_count : 0:02:46.885074\n",
      "Fin TF-IDF : 0:00:00.019078\n",
      "Fin CountVectorizer : 0:00:29.714400\n",
      "Fin Tf-IDF : 0:00:00.005203\n",
      "Fin MODELISATION CLASSIFICATION : 0:00:31.735900\n",
      "\n",
      "TOTAL 0:03:48.360117\n",
      "Fin vect_count : 0:02:42.132776\n",
      "Fin TF-IDF : 0:00:00.016367\n",
      "Fin CountVectorizer : 0:00:30.051628\n",
      "Fin Tf-IDF : 0:00:00.004717\n",
      "Fin MODELISATION CLASSIFICATION : 0:00:30.251455\n",
      "\n",
      "TOTAL 0:03:42.457489\n",
      "Fin vect_count : 0:02:45.336803\n",
      "Fin TF-IDF : 0:00:00.016412\n",
      "Fin CountVectorizer : 0:00:28.226103\n",
      "Fin Tf-IDF : 0:00:00.004107\n",
      "Fin MODELISATION CLASSIFICATION : 0:00:27.872458\n",
      "\n",
      "TOTAL 0:03:41.456286\n",
      "Fin vect_count : 0:02:45.959123\n",
      "Fin TF-IDF : 0:00:00.017599\n",
      "Fin CountVectorizer : 0:00:28.280500\n",
      "Fin Tf-IDF : 0:00:00.003389\n",
      "Fin MODELISATION CLASSIFICATION : 0:00:25.997599\n",
      "\n",
      "TOTAL 0:03:40.258740\n",
      "Fin vect_count : 0:02:46.699315\n",
      "Fin TF-IDF : 0:00:00.013389\n",
      "Fin CountVectorizer : 0:00:28.459226\n",
      "Fin Tf-IDF : 0:00:00.003743\n",
      "Fin MODELISATION CLASSIFICATION : 0:00:24.122346\n",
      "\n",
      "TOTAL 0:03:39.298428\n",
      "Fin PREDICTION -- Logistic : 0:34:21.650417\n"
     ]
    }
   ],
   "source": [
    "m_liste_x = [50, 100, 200, 300, 500, 700, 1000, 1200, 1500]\n",
    "l_pred = []\n",
    "\n",
    "debut = datetime.datetime.now()\n",
    "for i_min in m_liste_x:\n",
    "    l_y_pred = stt2.test_diff_min_df_multi_colonnes(\n",
    "        min_df=i_min,  \n",
    "        X_train=X_train, Y_train=Y_train, X_test=X_test,\n",
    "        clf=LogisticRegression(random_state=0, solver='lbfgs', multi_class='multinomial'))\n",
    "    l_pred.append(l_y_pred)\n",
    "\n",
    "fin = datetime.datetime.now()\n",
    "print(\"Fin PREDICTION -- Logistic : {}\".format(fin-debut))    \n",
    "\n",
    "\n",
    "#l_python_f1_score.append(f1_score(y_true=Y_test['python'].to_dense().ravel(), y_pred=Y_pred_python))\n",
    "#l_ios_f1_score.append(f1_score(y_true=Y_test['ios'].to_dense().ravel(), y_pred=Y_pred_ios))"
   ]
  },
  {
   "cell_type": "code",
   "execution_count": 82,
   "metadata": {},
   "outputs": [],
   "source": [
    "l_pred_copie = l_pred.copy()"
   ]
  },
  {
   "cell_type": "code",
   "execution_count": 106,
   "metadata": {},
   "outputs": [
    {
     "name": "stderr",
     "output_type": "stream",
     "text": [
      "/Users/seb/anaconda/lib/python3.6/site-packages/sklearn/metrics/classification.py:1135: UndefinedMetricWarning: F-score is ill-defined and being set to 0.0 due to no predicted samples.\n",
      "  'precision', 'predicted', average, warn_for)\n"
     ]
    }
   ],
   "source": [
    "m_df_f1_score = pd.DataFrame(index=m_liste_x, columns=Y_train.columns.tolist())\n",
    "\n",
    "for i, i_list_mindf in enumerate(m_liste_x):\n",
    "    for j, col in enumerate(Y_train.columns.tolist()):\n",
    "        m_df_f1_score.loc[i_list_mindf, col] = f1_score(\n",
    "            y_true=Y_test[col].to_dense().ravel(), \n",
    "            y_pred=l_pred[i][j])"
   ]
  },
  {
   "cell_type": "code",
   "execution_count": 122,
   "metadata": {},
   "outputs": [],
   "source": [
    "m_df_f1_score.to_csv('Score_f1.csv', index=True)"
   ]
  },
  {
   "cell_type": "code",
   "execution_count": 121,
   "metadata": {},
   "outputs": [
    {
     "data": {
      "image/png": "[encoded data removed]",
      "text/plain": [
       "<matplotlib.figure.Figure at 0x1a33f570f0>"
      ]
     },
     "metadata": {},
     "output_type": "display_data"
    }
   ],
   "source": [
    "plt.figure(figsize=(20,5))\n",
    "\n",
    "plt.subplot(131)\n",
    "u1 = np.mean(m_df_f1, axis=1)\n",
    "u1.plot(title='Score f1 moyen')\n",
    "plt.xlabel('min_df')\n",
    "\n",
    "plt.subplot(132)\n",
    "u = m_df_f1['python']\n",
    "u.plot(title='Score f1 python')\n",
    "plt.xlabel('min_df')\n",
    "\n",
    "plt.subplot(133)\n",
    "v = m_df_f1['ios']\n",
    "v.plot(title='Score f1 ios')\n",
    "plt.xlabel('min_df')\n",
    "plt.show()"
   ]
  },
  {
   "cell_type": "markdown",
   "metadata": {},
   "source": [
    "> Nous constatons que le fait d'augmenter la valeur de min_df a une influence notable sur la note\n",
    ">\n",
    "> Nous allons prendre  min_df ayant pour valuer 100 et 700 "
   ]
  },
  {
   "cell_type": "markdown",
   "metadata": {},
   "source": [
    "# Génération des valeurs de X_train et X_test"
   ]
  },
  {
   "cell_type": "code",
   "execution_count": 170,
   "metadata": {},
   "outputs": [
    {
     "name": "stdout",
     "output_type": "stream",
     "text": [
      "Fin TfidfVectorizer : 0:03:18.389859\n"
     ]
    }
   ],
   "source": [
    "from sklearn.feature_extraction.text import CountVectorizer\n",
    "from sklearn.feature_extraction.text import TfidfTransformer, TfidfVectorizer\n",
    "\n",
    "vect_tfidf = TfidfVectorizer(\n",
    "    analyzer=\"word\",\n",
    "    min_df=100,\n",
    "    max_df=0.2,\n",
    "    tokenizer=tokenize,\n",
    "    preprocessor=preProcess_keep_Code,\n",
    "    stop_words=StopWord,        # Pas de stopWord car nous les cherchons\n",
    "    ngram_range=(1, 6)\n",
    ")\n",
    "\n",
    "debut = datetime.datetime.now()\n",
    "X_train2 = vect_tfidf.fit_transform(X_train)\n",
    "X_test2 = vect_tfidf.transform(X_test)\n",
    "fin = datetime.datetime.now()\n",
    "print(\"Fin TfidfVectorizer : {}\".format(fin-debut))"
   ]
  },
  {
   "cell_type": "markdown",
   "metadata": {},
   "source": [
    "## Recherche d'amélioration de la classification via l'hyperparametre C"
   ]
  },
  {
   "cell_type": "code",
   "execution_count": 166,
   "metadata": {},
   "outputs": [
    {
     "data": {
      "text/plain": [
       "<module 'mes_fonctions_final22' from '/Users/seb/Workspace/Dev/Formation-OC/Formation-Data-Scientist/Projet6-Categoriser_Automatiquement_des_Questions/NoteBooks/PROJET_A_LIVRER/mes_fonctions_final22.py'>"
      ]
     },
     "execution_count": 166,
     "metadata": {},
     "output_type": "execute_result"
    }
   ],
   "source": [
    "imp.reload(stt2)"
   ]
  },
  {
   "cell_type": "code",
   "execution_count": 157,
   "metadata": {},
   "outputs": [
    {
     "name": "stdout",
     "output_type": "stream",
     "text": [
      "Fin GridSearch : 0:02:29.475478\n"
     ]
    }
   ],
   "source": [
    "#C_param_range = [0.001,0.01,0.1,1,10,100]\n",
    "\n",
    "#param_grid = {'vect__min_df': m_liste_x}\n",
    "from sklearn.model_selection import GridSearchCV\n",
    "\n",
    "clf=LogisticRegression(random_state=0, solver='lbfgs', multi_class='multinomial')\n",
    "\n",
    "param_grid = [\n",
    "  {'C': [1, 10, 100, 1000], 'kernel': ['linear']},\n",
    "  {'C': [1, 10, 100, 1000], 'gamma': [0.001, 0.0001], 'kernel': ['rbf']},\n",
    " ]\n",
    "\n",
    "param_grid = {'C': [0.001,0.01,0.1,1,10,100],}\n",
    "\n",
    "debut = datetime.datetime.now()\n",
    "gs_clf = GridSearchCV(clf, cv=3, param_grid=param_grid, \n",
    "                      scoring='f1_micro', return_train_score=True, n_jobs=-1)\n",
    "\n",
    "gs_clf.fit(X_train2.todense(), Y_train['python'].to_dense().ravel())\n",
    "fin = datetime.datetime.now()\n",
    "print(\"Fin GridSearch : {}\".format(fin-debut))"
   ]
  },
  {
   "cell_type": "code",
   "execution_count": 158,
   "metadata": {},
   "outputs": [
    {
     "data": {
      "text/plain": [
       "0.9319"
      ]
     },
     "execution_count": 158,
     "metadata": {},
     "output_type": "execute_result"
    }
   ],
   "source": [
    "gs_clf.best_score_"
   ]
  },
  {
   "cell_type": "code",
   "execution_count": 159,
   "metadata": {},
   "outputs": [
    {
     "data": {
      "text/plain": [
       "{'C': 1}"
      ]
     },
     "execution_count": 159,
     "metadata": {},
     "output_type": "execute_result"
    }
   ],
   "source": [
    "gs_clf.best_params_"
   ]
  },
  {
   "cell_type": "code",
   "execution_count": 160,
   "metadata": {},
   "outputs": [
    {
     "data": {
      "text/plain": [
       "{'mean_fit_time': array([ 1.59253971,  2.03948085,  3.43322913,  8.87528928, 13.80020102,\n",
       "        10.56010954]),\n",
       " 'mean_score_time': array([0.05876247, 0.05950538, 0.0568219 , 0.09531339, 0.09911807,\n",
       "        0.05620503]),\n",
       " 'mean_test_score': array([0.889875, 0.889925, 0.915875, 0.9319  , 0.930225, 0.922025]),\n",
       " 'mean_train_score': array([0.889875  , 0.889925  , 0.91942503, 0.94256253, 0.95436252,\n",
       "        0.95948753]),\n",
       " 'param_C': masked_array(data=[0.001, 0.01, 0.1, 1, 10, 100],\n",
       "              mask=[False, False, False, False, False, False],\n",
       "        fill_value='?',\n",
       "             dtype=object),\n",
       " 'params': [{'C': 0.001},\n",
       "  {'C': 0.01},\n",
       "  {'C': 0.1},\n",
       "  {'C': 1},\n",
       "  {'C': 10},\n",
       "  {'C': 100}],\n",
       " 'rank_test_score': array([6, 5, 4, 1, 2, 3], dtype=int32),\n",
       " 'split0_test_score': array([0.88983051, 0.8899055 , 0.91240438, 0.92852857, 0.9279286 ,\n",
       "        0.919904  ]),\n",
       " 'split0_train_score': array([0.88989725, 0.88993475, 0.92211055, 0.94479862, 0.95578639,\n",
       "        0.96156154]),\n",
       " 'split1_test_score': array([0.88989725, 0.88997225, 0.91757294, 0.93294832, 0.93129828,\n",
       "        0.92154804]),\n",
       " 'split1_train_score': array([0.88986388, 0.88990138, 0.91915101, 0.94217572, 0.95470057,\n",
       "        0.9601755 ]),\n",
       " 'split2_test_score': array([0.88989725, 0.88989725, 0.91764794, 0.93422336, 0.93144829,\n",
       "        0.92462312]),\n",
       " 'split2_train_score': array([0.88986388, 0.88993888, 0.91701354, 0.94071324, 0.95260059,\n",
       "        0.95672554]),\n",
       " 'std_fit_time': array([8.14034011e-03, 2.24208567e-03, 1.99856723e-01, 2.57824202e+00,\n",
       "        4.35420601e-01, 8.76557712e-01]),\n",
       " 'std_score_time': array([0.00030003, 0.001265  , 0.00032704, 0.02630303, 0.0234246 ,\n",
       "        0.01331441]),\n",
       " 'std_test_score': array([3.14614391e-05, 3.35793176e-05, 2.45438212e-03, 2.44021077e-03,\n",
       "        1.62501266e-03, 1.95587728e-03]),\n",
       " 'std_train_score': array([1.57311128e-05, 1.67893805e-05, 2.08984976e-03, 1.69012698e-03,\n",
       "        1.32238205e-03, 2.03333854e-03])}"
      ]
     },
     "execution_count": 160,
     "metadata": {},
     "output_type": "execute_result"
    }
   ],
   "source": [
    "gs_clf.cv_results_"
   ]
  },
  {
   "cell_type": "markdown",
   "metadata": {},
   "source": [
    "## Sur IOS"
   ]
  },
  {
   "cell_type": "code",
   "execution_count": 161,
   "metadata": {},
   "outputs": [
    {
     "name": "stdout",
     "output_type": "stream",
     "text": [
      "Fin GridSearch : 0:02:25.007508\n"
     ]
    }
   ],
   "source": [
    "debut = datetime.datetime.now()\n",
    "gs_clf.fit(X_train2.todense(), Y_train['ios'].to_dense().ravel())\n",
    "fin = datetime.datetime.now()\n",
    "print(\"Fin GridSearch : {}\".format(fin-debut))"
   ]
  },
  {
   "cell_type": "code",
   "execution_count": 162,
   "metadata": {},
   "outputs": [
    {
     "data": {
      "text/plain": [
       "0.9809"
      ]
     },
     "execution_count": 162,
     "metadata": {},
     "output_type": "execute_result"
    }
   ],
   "source": [
    "gs_clf.best_score_"
   ]
  },
  {
   "cell_type": "code",
   "execution_count": 163,
   "metadata": {},
   "outputs": [
    {
     "data": {
      "text/plain": [
       "{'C': 10}"
      ]
     },
     "execution_count": 163,
     "metadata": {},
     "output_type": "execute_result"
    }
   ],
   "source": [
    "gs_clf.best_params_"
   ]
  },
  {
   "cell_type": "code",
   "execution_count": 164,
   "metadata": {},
   "outputs": [
    {
     "data": {
      "text/plain": [
       "True"
      ]
     },
     "execution_count": 164,
     "metadata": {},
     "output_type": "execute_result"
    }
   ],
   "source": [
    "gs_clf.pr"
   ]
  },
  {
   "cell_type": "code",
   "execution_count": null,
   "metadata": {},
   "outputs": [],
   "source": []
  },
  {
   "cell_type": "code",
   "execution_count": null,
   "metadata": {},
   "outputs": [],
   "source": [
    "from sklearn.ensemble import RandomForestClassifier\n",
    "clf = RandomForestClassifier(n_estimators=100, max_depth=2,\n",
    "...                              random_state=0)"
   ]
  },
  {
   "cell_type": "code",
   "execution_count": null,
   "metadata": {},
   "outputs": [],
   "source": [
    "gs_clf.predict()"
   ]
  },
  {
   "cell_type": "code",
   "execution_count": 169,
   "metadata": {},
   "outputs": [
    {
     "data": {
      "text/plain": [
       "((40000, 3089), (10000, 882))"
      ]
     },
     "execution_count": 169,
     "metadata": {},
     "output_type": "execute_result"
    }
   ],
   "source": [
    "X_train2.shape, X_test2.shape"
   ]
  },
  {
   "cell_type": "code",
   "execution_count": null,
   "metadata": {},
   "outputs": [],
   "source": []
  },
  {
   "cell_type": "markdown",
   "metadata": {},
   "source": [
    "## Pour tous les tags"
   ]
  },
  {
   "cell_type": "code",
   "execution_count": 171,
   "metadata": {},
   "outputs": [
    {
     "name": "stdout",
     "output_type": "stream",
     "text": [
      "Fin MODELISATION CLASSIFICATION : 0:05:56.390567\n",
      "\n",
      "TOTAL 0:05:56.390568\n",
      "Fin GridSearch : 0:05:56.391934\n"
     ]
    }
   ],
   "source": [
    "clf=LogisticRegression(random_state=0, solver='lbfgs', multi_class='multinomial')\n",
    "param_grid = {'C': [0.001,0.01,0.1,1,10,100],}\n",
    "\n",
    "debut = datetime.datetime.now()\n",
    "l_clf, l_y_pred = stt2.test_gridSearch(X_train2, Y_train, X_test2, clf, param_grid)\n",
    "fin = datetime.datetime.now()\n",
    "print(\"Fin GridSearch : {}\".format(fin-debut))"
   ]
  },
  {
   "cell_type": "code",
   "execution_count": 206,
   "metadata": {},
   "outputs": [],
   "source": [
    "m_df_logistic = pd.DataFrame(index=Y_train.columns.tolist(), columns=['f1_score', 'recall', 'C'])\n",
    "\n",
    "for i_y_pred, col in enumerate(Y_train.columns.tolist()):\n",
    "    #print(i_y_pred, col)\n",
    "    m_df_logistic.loc[col, 'f1_score'] = f1_score(\n",
    "        y_true=Y_test[col].to_dense().ravel(), \n",
    "        y_pred=l_pred[0][i_y_pred])\n",
    "    \n",
    "    m_df_logistic.loc[col, 'recall'] = recall_score(\n",
    "        y_true=Y_test[col].to_dense().ravel(), \n",
    "        y_pred=l_pred[0][i_y_pred])\n",
    "    \n",
    "    m_df_logistic.loc[col, 'C'] = (l_clf[i_y_pred]).best_params_['C']\n",
    "    #print(i_clf.best_score_)"
   ]
  },
  {
   "cell_type": "code",
   "execution_count": 407,
   "metadata": {},
   "outputs": [
    {
     "data": {
      "text/html": [
       "<div>\n",
       "<style>\n",
       "    .dataframe thead tr:only-child th {\n",
       "        text-align: right;\n",
       "    }\n",
       "\n",
       "    .dataframe thead th {\n",
       "        text-align: left;\n",
       "    }\n",
       "\n",
       "    .dataframe tbody tr th {\n",
       "        vertical-align: top;\n",
       "    }\n",
       "</style>\n",
       "<table border=\"1\" class=\"dataframe\">\n",
       "  <thead>\n",
       "    <tr style=\"text-align: right;\">\n",
       "      <th></th>\n",
       "      <th>f1_score</th>\n",
       "      <th>recall</th>\n",
       "      <th>C</th>\n",
       "    </tr>\n",
       "  </thead>\n",
       "  <tbody>\n",
       "    <tr>\n",
       "      <th>.net</th>\n",
       "      <td>0.0243902</td>\n",
       "      <td>0.0126582</td>\n",
       "      <td>0.001</td>\n",
       "    </tr>\n",
       "    <tr>\n",
       "      <th>ajax</th>\n",
       "      <td>0.461538</td>\n",
       "      <td>0.318182</td>\n",
       "      <td>1</td>\n",
       "    </tr>\n",
       "    <tr>\n",
       "      <th>amazon-web-services</th>\n",
       "      <td>0.488189</td>\n",
       "      <td>0.364706</td>\n",
       "      <td>10</td>\n",
       "    </tr>\n",
       "    <tr>\n",
       "      <th>android</th>\n",
       "      <td>0.691796</td>\n",
       "      <td>0.589792</td>\n",
       "      <td>1</td>\n",
       "    </tr>\n",
       "    <tr>\n",
       "      <th>android-studio</th>\n",
       "      <td>0.12987</td>\n",
       "      <td>0.0735294</td>\n",
       "      <td>1</td>\n",
       "    </tr>\n",
       "  </tbody>\n",
       "</table>\n",
       "</div>"
      ],
      "text/plain": [
       "                      f1_score     recall      C\n",
       ".net                 0.0243902  0.0126582  0.001\n",
       "ajax                  0.461538   0.318182      1\n",
       "amazon-web-services   0.488189   0.364706     10\n",
       "android               0.691796   0.589792      1\n",
       "android-studio         0.12987  0.0735294      1"
      ]
     },
     "execution_count": 407,
     "metadata": {},
     "output_type": "execute_result"
    }
   ],
   "source": [
    "m_df_logistic.head()"
   ]
  },
  {
   "cell_type": "code",
   "execution_count": 408,
   "metadata": {},
   "outputs": [
    {
     "data": {
      "text/plain": [
       "(0.4129518192243252, 0.30580925184351093)"
      ]
     },
     "execution_count": 408,
     "metadata": {},
     "output_type": "execute_result"
    }
   ],
   "source": [
    "np.mean(m_df_logistic.f1_score), np.mean(m_df_logistic.recall),"
   ]
  },
  {
   "cell_type": "code",
   "execution_count": 234,
   "metadata": {},
   "outputs": [
    {
     "data": {
      "image/png": "[encoded data removed]",
      "text/plain": [
       "<matplotlib.figure.Figure at 0x1ae4a76080>"
      ]
     },
     "metadata": {},
     "output_type": "display_data"
    }
   ],
   "source": [
    "m_df_logistic[['f1_score', 'recall']].plot.bar(figsize=(20,10))\n",
    "plt.title('Score f1 et recall pour la regression Logistic')\n",
    "plt.show()"
   ]
  },
  {
   "cell_type": "code",
   "execution_count": 257,
   "metadata": {},
   "outputs": [],
   "source": [
    "m_df_logistic.to_csv('SCORE_LOGISTIC.csv', index=True)"
   ]
  },
  {
   "cell_type": "markdown",
   "metadata": {},
   "source": [
    "# Nouveaux Classifiers\n",
    "## RandomForestClassifier"
   ]
  },
  {
   "cell_type": "code",
   "execution_count": 238,
   "metadata": {},
   "outputs": [
    {
     "name": "stdout",
     "output_type": "stream",
     "text": [
      "Fin GridSearch : 0:06:21.971736\n"
     ]
    }
   ],
   "source": [
    "from sklearn.model_selection import GridSearchCV\n",
    "from sklearn.ensemble import RandomForestClassifier\n",
    "\n",
    "clf = RandomForestClassifier(n_estimators=100, max_depth=200,random_state=0)\n",
    "param_grid = {}\n",
    "\n",
    "debut = datetime.datetime.now()\n",
    "gs_clf_V3 = GridSearchCV(clf, cv=3, param_grid=param_grid, \n",
    "                      scoring='f1_micro', return_train_score=True, n_jobs=-1)\n",
    "\n",
    "gs_clf_V3.fit(X_train2.todense(), Y_train['python'].to_dense().ravel())\n",
    "fin = datetime.datetime.now()\n",
    "print(\"Fin GridSearch : {}\".format(fin-debut))"
   ]
  },
  {
   "cell_type": "code",
   "execution_count": null,
   "metadata": {},
   "outputs": [],
   "source": []
  },
  {
   "cell_type": "code",
   "execution_count": 239,
   "metadata": {},
   "outputs": [
    {
     "data": {
      "text/plain": [
       "0.941875"
      ]
     },
     "execution_count": 239,
     "metadata": {},
     "output_type": "execute_result"
    }
   ],
   "source": [
    "gs_clf_V3.best_score_"
   ]
  },
  {
   "cell_type": "markdown",
   "metadata": {},
   "source": [
    "> Le score pour python est bon : on va lancer cela sur tous les tags"
   ]
  },
  {
   "cell_type": "code",
   "execution_count": 334,
   "metadata": {},
   "outputs": [
    {
     "name": "stdout",
     "output_type": "stream",
     "text": [
      "Col = .net, y_pred.shape = (10000,)\n",
      "Fin MODELISATION CLASSIFICATION : 0:02:30.187614\n",
      "Col = ajax, y_pred.shape = (10000,)\n",
      "Fin MODELISATION CLASSIFICATION : 0:02:10.595104\n",
      "Col = amazon-web-services, y_pred.shape = (10000,)\n",
      "Fin MODELISATION CLASSIFICATION : 0:02:15.082020\n",
      "Col = android, y_pred.shape = (10000,)\n",
      "Fin MODELISATION CLASSIFICATION : 0:02:16.840457\n",
      "Col = android-studio, y_pred.shape = (10000,)\n",
      "Fin MODELISATION CLASSIFICATION : 0:02:28.056677\n",
      "Col = angular, y_pred.shape = (10000,)\n",
      "Fin MODELISATION CLASSIFICATION : 0:02:18.336163\n",
      "Col = apache-spark, y_pred.shape = (10000,)\n",
      "Fin MODELISATION CLASSIFICATION : 0:02:17.155309\n",
      "Col = api, y_pred.shape = (10000,)\n",
      "Fin MODELISATION CLASSIFICATION : 0:02:19.668411\n",
      "Col = arrays, y_pred.shape = (10000,)\n",
      "Fin MODELISATION CLASSIFICATION : 0:02:22.023324\n",
      "Col = asp.net, y_pred.shape = (10000,)\n",
      "Fin MODELISATION CLASSIFICATION : 0:02:33.481345\n",
      "Col = azure, y_pred.shape = (10000,)\n",
      "Fin MODELISATION CLASSIFICATION : 0:02:04.030772\n",
      "Col = bash, y_pred.shape = (10000,)\n",
      "Fin MODELISATION CLASSIFICATION : 0:02:13.790638\n",
      "Col = c, y_pred.shape = (10000,)\n",
      "Fin MODELISATION CLASSIFICATION : 0:02:16.621866\n",
      "Col = c#, y_pred.shape = (10000,)\n",
      "Fin MODELISATION CLASSIFICATION : 0:02:10.954091\n",
      "Col = c++, y_pred.shape = (10000,)\n",
      "Fin MODELISATION CLASSIFICATION : 0:02:16.741494\n",
      "Col = css, y_pred.shape = (10000,)\n",
      "Fin MODELISATION CLASSIFICATION : 0:02:09.866188\n",
      "Col = database, y_pred.shape = (10000,)\n",
      "Fin MODELISATION CLASSIFICATION : 0:02:12.448844\n",
      "Col = dataframe, y_pred.shape = (10000,)\n",
      "Fin MODELISATION CLASSIFICATION : 0:02:03.772368\n",
      "Col = django, y_pred.shape = (10000,)\n",
      "Fin MODELISATION CLASSIFICATION : 0:02:06.939622\n",
      "Col = docker, y_pred.shape = (10000,)\n",
      "Fin MODELISATION CLASSIFICATION : 0:01:56.105491\n",
      "Col = excel, y_pred.shape = (10000,)\n",
      "Fin MODELISATION CLASSIFICATION : 0:02:09.759059\n",
      "Col = firebase, y_pred.shape = (10000,)\n",
      "Fin MODELISATION CLASSIFICATION : 0:02:08.097129\n",
      "Col = git, y_pred.shape = (10000,)\n",
      "Fin MODELISATION CLASSIFICATION : 0:02:00.001420\n",
      "Col = html, y_pred.shape = (10000,)\n",
      "Fin MODELISATION CLASSIFICATION : 0:02:06.551820\n",
      "Col = ios, y_pred.shape = (10000,)\n",
      "Fin MODELISATION CLASSIFICATION : 0:02:10.840002\n",
      "Col = java, y_pred.shape = (10000,)\n",
      "Fin MODELISATION CLASSIFICATION : 0:02:04.802972\n",
      "Col = javascript, y_pred.shape = (10000,)\n",
      "Fin MODELISATION CLASSIFICATION : 0:02:05.036787\n",
      "Col = jquery, y_pred.shape = (10000,)\n",
      "Fin MODELISATION CLASSIFICATION : 0:02:12.189805\n",
      "Col = json, y_pred.shape = (10000,)\n",
      "Fin MODELISATION CLASSIFICATION : 0:02:13.591514\n",
      "Col = laravel, y_pred.shape = (10000,)\n",
      "Fin MODELISATION CLASSIFICATION : 0:02:14.203305\n",
      "Col = linux, y_pred.shape = (10000,)\n",
      "Fin MODELISATION CLASSIFICATION : 0:02:14.370834\n",
      "Col = mongodb, y_pred.shape = (10000,)\n",
      "Fin MODELISATION CLASSIFICATION : 0:02:11.485105\n",
      "Col = mysql, y_pred.shape = (10000,)\n",
      "Fin MODELISATION CLASSIFICATION : 0:02:12.465080\n",
      "Col = node.js, y_pred.shape = (10000,)\n",
      "Fin MODELISATION CLASSIFICATION : 0:02:29.354902\n",
      "Col = oracle, y_pred.shape = (10000,)\n",
      "Fin MODELISATION CLASSIFICATION : 0:02:08.463662\n",
      "Col = pandas, y_pred.shape = (10000,)\n",
      "Fin MODELISATION CLASSIFICATION : 0:02:07.686079\n",
      "Col = php, y_pred.shape = (10000,)\n",
      "Fin MODELISATION CLASSIFICATION : 0:02:06.204188\n",
      "Col = postgresql, y_pred.shape = (10000,)\n",
      "Fin MODELISATION CLASSIFICATION : 0:02:07.470154\n",
      "Col = python, y_pred.shape = (10000,)\n",
      "Fin MODELISATION CLASSIFICATION : 0:02:03.542124\n",
      "Col = python-3.x, y_pred.shape = (10000,)\n",
      "Fin MODELISATION CLASSIFICATION : 0:02:09.280823\n",
      "Col = r, y_pred.shape = (10000,)\n",
      "Fin MODELISATION CLASSIFICATION : 0:02:09.986541\n",
      "Col = react-native, y_pred.shape = (10000,)\n",
      "Fin MODELISATION CLASSIFICATION : 0:02:11.664198\n",
      "Col = reactjs, y_pred.shape = (10000,)\n",
      "Fin MODELISATION CLASSIFICATION : 0:02:09.680092\n",
      "Col = regex, y_pred.shape = (10000,)\n",
      "Fin MODELISATION CLASSIFICATION : 0:02:13.945646\n",
      "Col = ruby-on-rails, y_pred.shape = (10000,)\n",
      "Fin MODELISATION CLASSIFICATION : 0:02:10.149654\n",
      "Col = spring, y_pred.shape = (10000,)\n",
      "Fin MODELISATION CLASSIFICATION : 0:02:08.934726\n",
      "Col = spring-boot, y_pred.shape = (10000,)\n",
      "Fin MODELISATION CLASSIFICATION : 0:02:09.256277\n",
      "Col = sql, y_pred.shape = (10000,)\n",
      "Fin MODELISATION CLASSIFICATION : 0:02:08.193529\n",
      "Col = sql-server, y_pred.shape = (10000,)\n",
      "Fin MODELISATION CLASSIFICATION : 0:02:08.304552\n",
      "Col = string, y_pred.shape = (10000,)\n",
      "Fin MODELISATION CLASSIFICATION : 0:02:15.059148\n",
      "Col = swift, y_pred.shape = (10000,)\n",
      "Fin MODELISATION CLASSIFICATION : 0:02:13.624726\n",
      "Col = tensorflow, y_pred.shape = (10000,)\n",
      "Fin MODELISATION CLASSIFICATION : 0:02:02.818003\n",
      "Col = typescript, y_pred.shape = (10000,)\n",
      "Fin MODELISATION CLASSIFICATION : 0:02:12.569651\n",
      "Col = vba, y_pred.shape = (10000,)\n",
      "Fin MODELISATION CLASSIFICATION : 0:02:11.147330\n",
      "Col = vue.js, y_pred.shape = (10000,)\n",
      "Fin MODELISATION CLASSIFICATION : 0:02:09.844486\n",
      "Col = windows, y_pred.shape = (10000,)\n",
      "Fin MODELISATION CLASSIFICATION : 0:02:13.118954\n",
      "Col = wordpress, y_pred.shape = (10000,)\n",
      "Fin MODELISATION CLASSIFICATION : 0:02:10.450329\n",
      "Col = xml, y_pred.shape = (10000,)\n",
      "Fin MODELISATION CLASSIFICATION : 0:02:09.253961\n",
      "\n",
      "TOTAL 2:07:26.101069\n",
      "Fin GridSearch : 2:07:26.697162\n"
     ]
    }
   ],
   "source": [
    "clf_rfc = RandomForestClassifier(n_estimators=100, max_depth=40,random_state=0)\n",
    "param_grid_rfc = {}\n",
    "\n",
    "debut = datetime.datetime.now()\n",
    "l_clf_rfc, l_y_pred_rfc = stt2.test_gridSearch(\n",
    "    X_train2.todense(), Y_train, X_test2.todense(), \n",
    "    clf_rfc, param_grid_rfc)\n",
    "fin = datetime.datetime.now()\n",
    "print(\"Fin GridSearch : {}\".format(fin-debut))"
   ]
  },
  {
   "cell_type": "code",
   "execution_count": 347,
   "metadata": {},
   "outputs": [],
   "source": [
    "df_body_random_forest = pd.DataFrame(l_y_pred_rfc).T\n",
    "\n",
    "df_body_random_forest.index = Y_test.index\n",
    "df_body_random_forest.columns = Y_test.columns"
   ]
  },
  {
   "cell_type": "markdown",
   "metadata": {},
   "source": [
    "### Mesures"
   ]
  },
  {
   "cell_type": "code",
   "execution_count": 350,
   "metadata": {},
   "outputs": [
    {
     "name": "stderr",
     "output_type": "stream",
     "text": [
      "/Users/seb/anaconda/lib/python3.6/site-packages/sklearn/metrics/classification.py:1135: UndefinedMetricWarning: F-score is ill-defined and being set to 0.0 due to no predicted samples.\n",
      "  'precision', 'predicted', average, warn_for)\n"
     ]
    }
   ],
   "source": [
    "m_df_rfc = pd.DataFrame(index=Y_test.columns.tolist(), columns=['f1_score', 'recall', 'C'])\n",
    "\n",
    "for i_y_pred, col in enumerate(Y_test.columns.tolist()):\n",
    "    #print(i_y_pred, col)\n",
    "    m_df_rfc.loc[col, 'f1_score'] = f1_score(\n",
    "        y_true=Y_test[col].to_dense().ravel(), \n",
    "        y_pred=df_body_random_forest[col].to_dense().ravel())\n",
    "    \n",
    "    m_df_rfc.loc[col, 'recall'] = recall_score(\n",
    "        y_true=Y_test[col].to_dense().ravel(), \n",
    "        y_pred=df_body_random_forest[col].to_dense().ravel())"
   ]
  },
  {
   "cell_type": "code",
   "execution_count": 351,
   "metadata": {},
   "outputs": [
    {
     "data": {
      "image/png": "[encoded data removed]",
      "text/plain": [
       "<matplotlib.figure.Figure at 0x1a9cc4fb70>"
      ]
     },
     "metadata": {},
     "output_type": "display_data"
    }
   ],
   "source": [
    "m_df_rfc[['f1_score', 'recall']].plot.bar(figsize=(20,10))\n",
    "plt.title('Score f1 et recall pour le Random Forest')\n",
    "plt.show()"
   ]
  },
  {
   "cell_type": "code",
   "execution_count": 352,
   "metadata": {},
   "outputs": [
    {
     "data": {
      "text/plain": [
       "0.2317704559904378"
      ]
     },
     "execution_count": 352,
     "metadata": {},
     "output_type": "execute_result"
    }
   ],
   "source": [
    "np.mean(m_df_rfc.f1_score)"
   ]
  },
  {
   "cell_type": "code",
   "execution_count": 355,
   "metadata": {},
   "outputs": [
    {
     "data": {
      "text/plain": [
       "0.15843067545813186"
      ]
     },
     "execution_count": 355,
     "metadata": {},
     "output_type": "execute_result"
    }
   ],
   "source": [
    "np.mean(m_df_rfc.recall)"
   ]
  },
  {
   "cell_type": "markdown",
   "metadata": {},
   "source": [
    "> Les résultats sont moins bons que pour la Régression Logistic"
   ]
  },
  {
   "cell_type": "code",
   "execution_count": 353,
   "metadata": {},
   "outputs": [],
   "source": [
    "m_df_rfc.to_csv('SCORE_RANDOM_FOREST.csv', index=True)"
   ]
  },
  {
   "cell_type": "code",
   "execution_count": null,
   "metadata": {},
   "outputs": [],
   "source": []
  },
  {
   "cell_type": "markdown",
   "metadata": {},
   "source": [
    "## Naives Bayes"
   ]
  },
  {
   "cell_type": "code",
   "execution_count": 354,
   "metadata": {},
   "outputs": [
    {
     "name": "stdout",
     "output_type": "stream",
     "text": [
      "Col = .net, y_pred.shape = (10000,)\n",
      "Fin MODELISATION CLASSIFICATION : 0:00:16.818927\n",
      "Col = ajax, y_pred.shape = (10000,)\n",
      "Fin MODELISATION CLASSIFICATION : 0:00:17.344844\n",
      "Col = amazon-web-services, y_pred.shape = (10000,)\n",
      "Fin MODELISATION CLASSIFICATION : 0:00:16.264633\n",
      "Col = android, y_pred.shape = (10000,)\n",
      "Fin MODELISATION CLASSIFICATION : 0:00:16.802388\n",
      "Col = android-studio, y_pred.shape = (10000,)\n",
      "Fin MODELISATION CLASSIFICATION : 0:00:15.477729\n",
      "Col = angular, y_pred.shape = (10000,)\n",
      "Fin MODELISATION CLASSIFICATION : 0:00:15.760665\n",
      "Col = apache-spark, y_pred.shape = (10000,)\n",
      "Fin MODELISATION CLASSIFICATION : 0:00:16.649893\n",
      "Col = api, y_pred.shape = (10000,)\n",
      "Fin MODELISATION CLASSIFICATION : 0:00:17.513496\n",
      "Col = arrays, y_pred.shape = (10000,)\n",
      "Fin MODELISATION CLASSIFICATION : 0:00:15.738252\n",
      "Col = asp.net, y_pred.shape = (10000,)\n",
      "Fin MODELISATION CLASSIFICATION : 0:00:17.520909\n",
      "Col = azure, y_pred.shape = (10000,)\n",
      "Fin MODELISATION CLASSIFICATION : 0:00:16.068482\n",
      "Col = bash, y_pred.shape = (10000,)\n",
      "Fin MODELISATION CLASSIFICATION : 0:00:17.652172\n",
      "Col = c, y_pred.shape = (10000,)\n",
      "Fin MODELISATION CLASSIFICATION : 0:00:16.788500\n",
      "Col = c#, y_pred.shape = (10000,)\n",
      "Fin MODELISATION CLASSIFICATION : 0:00:16.221052\n",
      "Col = c++, y_pred.shape = (10000,)\n",
      "Fin MODELISATION CLASSIFICATION : 0:00:16.320493\n",
      "Col = css, y_pred.shape = (10000,)\n",
      "Fin MODELISATION CLASSIFICATION : 0:00:16.976540\n",
      "Col = database, y_pred.shape = (10000,)\n",
      "Fin MODELISATION CLASSIFICATION : 0:00:17.835981\n",
      "Col = dataframe, y_pred.shape = (10000,)\n",
      "Fin MODELISATION CLASSIFICATION : 0:00:15.991970\n",
      "Col = django, y_pred.shape = (10000,)\n",
      "Fin MODELISATION CLASSIFICATION : 0:00:16.723641\n",
      "Col = docker, y_pred.shape = (10000,)\n",
      "Fin MODELISATION CLASSIFICATION : 0:00:20.759810\n",
      "Col = excel, y_pred.shape = (10000,)\n",
      "Fin MODELISATION CLASSIFICATION : 0:00:16.967727\n",
      "Col = firebase, y_pred.shape = (10000,)\n",
      "Fin MODELISATION CLASSIFICATION : 0:00:17.131615\n",
      "Col = git, y_pred.shape = (10000,)\n",
      "Fin MODELISATION CLASSIFICATION : 0:00:18.552640\n",
      "Col = html, y_pred.shape = (10000,)\n",
      "Fin MODELISATION CLASSIFICATION : 0:00:15.746005\n",
      "Col = ios, y_pred.shape = (10000,)\n",
      "Fin MODELISATION CLASSIFICATION : 0:00:16.571042\n",
      "Col = java, y_pred.shape = (10000,)\n",
      "Fin MODELISATION CLASSIFICATION : 0:00:15.544237\n",
      "Col = javascript, y_pred.shape = (10000,)\n",
      "Fin MODELISATION CLASSIFICATION : 0:00:14.894906\n",
      "Col = jquery, y_pred.shape = (10000,)\n",
      "Fin MODELISATION CLASSIFICATION : 0:00:15.865037\n",
      "Col = json, y_pred.shape = (10000,)\n",
      "Fin MODELISATION CLASSIFICATION : 0:00:15.525604\n",
      "Col = laravel, y_pred.shape = (10000,)\n",
      "Fin MODELISATION CLASSIFICATION : 0:00:15.501884\n",
      "Col = linux, y_pred.shape = (10000,)\n",
      "Fin MODELISATION CLASSIFICATION : 0:00:16.432071\n",
      "Col = mongodb, y_pred.shape = (10000,)\n",
      "Fin MODELISATION CLASSIFICATION : 0:00:15.238444\n",
      "Col = mysql, y_pred.shape = (10000,)\n",
      "Fin MODELISATION CLASSIFICATION : 0:00:16.739510\n",
      "Col = node.js, y_pred.shape = (10000,)\n",
      "Fin MODELISATION CLASSIFICATION : 0:00:16.674200\n",
      "Col = oracle, y_pred.shape = (10000,)\n",
      "Fin MODELISATION CLASSIFICATION : 0:00:16.502446\n",
      "Col = pandas, y_pred.shape = (10000,)\n",
      "Fin MODELISATION CLASSIFICATION : 0:00:15.613526\n",
      "Col = php, y_pred.shape = (10000,)\n",
      "Fin MODELISATION CLASSIFICATION : 0:00:16.647567\n",
      "Col = postgresql, y_pred.shape = (10000,)\n",
      "Fin MODELISATION CLASSIFICATION : 0:00:17.597158\n",
      "Col = python, y_pred.shape = (10000,)\n",
      "Fin MODELISATION CLASSIFICATION : 0:00:16.720187\n",
      "Col = python-3.x, y_pred.shape = (10000,)\n",
      "Fin MODELISATION CLASSIFICATION : 0:00:16.149698\n",
      "Col = r, y_pred.shape = (10000,)\n",
      "Fin MODELISATION CLASSIFICATION : 0:00:16.680344\n",
      "Col = react-native, y_pred.shape = (10000,)\n",
      "Fin MODELISATION CLASSIFICATION : 0:00:16.257300\n",
      "Col = reactjs, y_pred.shape = (10000,)\n",
      "Fin MODELISATION CLASSIFICATION : 0:00:16.418927\n",
      "Col = regex, y_pred.shape = (10000,)\n",
      "Fin MODELISATION CLASSIFICATION : 0:00:15.910245\n",
      "Col = ruby-on-rails, y_pred.shape = (10000,)\n",
      "Fin MODELISATION CLASSIFICATION : 0:00:22.392899\n",
      "Col = spring, y_pred.shape = (10000,)\n",
      "Fin MODELISATION CLASSIFICATION : 0:00:21.082593\n",
      "Col = spring-boot, y_pred.shape = (10000,)\n",
      "Fin MODELISATION CLASSIFICATION : 0:00:22.081695\n",
      "Col = sql, y_pred.shape = (10000,)\n",
      "Fin MODELISATION CLASSIFICATION : 0:00:19.253412\n",
      "Col = sql-server, y_pred.shape = (10000,)\n",
      "Fin MODELISATION CLASSIFICATION : 0:00:21.903028\n",
      "Col = string, y_pred.shape = (10000,)\n",
      "Fin MODELISATION CLASSIFICATION : 0:00:21.947639\n",
      "Col = swift, y_pred.shape = (10000,)\n",
      "Fin MODELISATION CLASSIFICATION : 0:00:16.493386\n",
      "Col = tensorflow, y_pred.shape = (10000,)\n",
      "Fin MODELISATION CLASSIFICATION : 0:00:16.636741\n",
      "Col = typescript, y_pred.shape = (10000,)\n",
      "Fin MODELISATION CLASSIFICATION : 0:00:15.971797\n",
      "Col = vba, y_pred.shape = (10000,)\n",
      "Fin MODELISATION CLASSIFICATION : 0:00:16.332976\n",
      "Col = vue.js, y_pred.shape = (10000,)\n",
      "Fin MODELISATION CLASSIFICATION : 0:00:17.253299\n",
      "Col = windows, y_pred.shape = (10000,)\n",
      "Fin MODELISATION CLASSIFICATION : 0:00:16.301257\n",
      "Col = wordpress, y_pred.shape = (10000,)\n",
      "Fin MODELISATION CLASSIFICATION : 0:00:16.150913\n",
      "Col = xml, y_pred.shape = (10000,)\n",
      "Fin MODELISATION CLASSIFICATION : 0:00:16.320794\n",
      "\n",
      "TOTAL 0:16:29.252188\n",
      "Fin GridSearch : 0:16:29.838479\n"
     ]
    }
   ],
   "source": [
    "clf_NB = MultinomialNB()\n",
    "param_grid_NB = {}\n",
    "\n",
    "debut = datetime.datetime.now()\n",
    "l_clf_NB, l_y_pred_NB = stt2.test_gridSearch(\n",
    "    X_train2.todense(), Y_train, X_test2.todense(), \n",
    "    clf_NB, param_grid_NB)\n",
    "fin = datetime.datetime.now()\n",
    "print(\"Fin GridSearch : {}\".format(fin-debut))"
   ]
  },
  {
   "cell_type": "markdown",
   "metadata": {},
   "source": [
    "## Mesure"
   ]
  },
  {
   "cell_type": "code",
   "execution_count": 356,
   "metadata": {},
   "outputs": [],
   "source": [
    "df_body_NB = pd.DataFrame(l_y_pred_NB).T\n",
    "\n",
    "df_body_NB.index = Y_test.index\n",
    "df_body_NB.columns = Y_test.columns"
   ]
  },
  {
   "cell_type": "code",
   "execution_count": 357,
   "metadata": {},
   "outputs": [],
   "source": [
    "m_df_NB = pd.DataFrame(index=Y_test.columns.tolist(), columns=['f1_score', 'recall', 'C'])\n",
    "\n",
    "for i_y_pred, col in enumerate(Y_test.columns.tolist()):\n",
    "    #print(i_y_pred, col)\n",
    "    m_df_NB.loc[col, 'f1_score'] = f1_score(\n",
    "        y_true=Y_test[col].to_dense().ravel(), \n",
    "        y_pred=df_body_NB[col].to_dense().ravel())\n",
    "    \n",
    "    m_df_NB.loc[col, 'recall'] = recall_score(\n",
    "        y_true=Y_test[col].to_dense().ravel(), \n",
    "        y_pred=df_body_NB[col].to_dense().ravel())"
   ]
  },
  {
   "cell_type": "code",
   "execution_count": 363,
   "metadata": {},
   "outputs": [
    {
     "data": {
      "image/png": "[encoded data removed]",
      "text/plain": [
       "<matplotlib.figure.Figure at 0x1a8e307e80>"
      ]
     },
     "metadata": {},
     "output_type": "display_data"
    }
   ],
   "source": [
    "m_df_NB[['f1_score', 'recall']].plot.bar(figsize=(20,10))\n",
    "plt.title('Score f1 et recall pour le Naive BAYES')\n",
    "plt.show()"
   ]
  },
  {
   "cell_type": "code",
   "execution_count": 409,
   "metadata": {},
   "outputs": [],
   "source": [
    "m_df_NB.to_csv('SCORE_NAIVE_BAYES.csv', index=True)"
   ]
  },
  {
   "cell_type": "code",
   "execution_count": null,
   "metadata": {},
   "outputs": [],
   "source": []
  },
  {
   "cell_type": "markdown",
   "metadata": {},
   "source": [
    "# Logistic2"
   ]
  },
  {
   "cell_type": "code",
   "execution_count": 359,
   "metadata": {},
   "outputs": [
    {
     "name": "stdout",
     "output_type": "stream",
     "text": [
      "Col = .net, y_pred.shape = (10000,)\n",
      "Fin MODELISATION CLASSIFICATION : 0:00:03.542974\n",
      "Col = ajax, y_pred.shape = (10000,)\n",
      "Fin MODELISATION CLASSIFICATION : 0:00:03.969734\n",
      "Col = amazon-web-services, y_pred.shape = (10000,)\n",
      "Fin MODELISATION CLASSIFICATION : 0:00:03.647116\n",
      "Col = android, y_pred.shape = (10000,)\n",
      "Fin MODELISATION CLASSIFICATION : 0:00:04.094208\n",
      "Col = android-studio, y_pred.shape = (10000,)\n",
      "Fin MODELISATION CLASSIFICATION : 0:00:03.540012\n",
      "Col = angular, y_pred.shape = (10000,)\n",
      "Fin MODELISATION CLASSIFICATION : 0:00:03.981293\n",
      "Col = apache-spark, y_pred.shape = (10000,)\n",
      "Fin MODELISATION CLASSIFICATION : 0:00:03.598624\n",
      "Col = api, y_pred.shape = (10000,)\n",
      "Fin MODELISATION CLASSIFICATION : 0:00:03.573183\n",
      "Col = arrays, y_pred.shape = (10000,)\n",
      "Fin MODELISATION CLASSIFICATION : 0:00:03.787717\n",
      "Col = asp.net, y_pred.shape = (10000,)\n",
      "Fin MODELISATION CLASSIFICATION : 0:00:03.842236\n",
      "Col = azure, y_pred.shape = (10000,)\n",
      "Fin MODELISATION CLASSIFICATION : 0:00:03.540570\n",
      "Col = bash, y_pred.shape = (10000,)\n",
      "Fin MODELISATION CLASSIFICATION : 0:00:03.650556\n",
      "Col = c, y_pred.shape = (10000,)\n",
      "Fin MODELISATION CLASSIFICATION : 0:00:04.146751\n",
      "Col = c#, y_pred.shape = (10000,)\n",
      "Fin MODELISATION CLASSIFICATION : 0:00:05.262385\n",
      "Col = c++, y_pred.shape = (10000,)\n",
      "Fin MODELISATION CLASSIFICATION : 0:00:04.711846\n",
      "Col = css, y_pred.shape = (10000,)\n",
      "Fin MODELISATION CLASSIFICATION : 0:00:04.707548\n",
      "Col = database, y_pred.shape = (10000,)\n",
      "Fin MODELISATION CLASSIFICATION : 0:00:04.198870\n",
      "Col = dataframe, y_pred.shape = (10000,)\n",
      "Fin MODELISATION CLASSIFICATION : 0:00:04.342354\n",
      "Col = django, y_pred.shape = (10000,)\n",
      "Fin MODELISATION CLASSIFICATION : 0:00:04.302238\n",
      "Col = docker, y_pred.shape = (10000,)\n",
      "Fin MODELISATION CLASSIFICATION : 0:00:04.201561\n",
      "Col = excel, y_pred.shape = (10000,)\n",
      "Fin MODELISATION CLASSIFICATION : 0:00:04.339913\n",
      "Col = firebase, y_pred.shape = (10000,)\n",
      "Fin MODELISATION CLASSIFICATION : 0:00:04.327592\n",
      "Col = git, y_pred.shape = (10000,)\n",
      "Fin MODELISATION CLASSIFICATION : 0:00:04.335650\n",
      "Col = html, y_pred.shape = (10000,)\n",
      "Fin MODELISATION CLASSIFICATION : 0:00:04.516828\n",
      "Col = ios, y_pred.shape = (10000,)\n",
      "Fin MODELISATION CLASSIFICATION : 0:00:04.536964\n",
      "Col = java, y_pred.shape = (10000,)\n",
      "Fin MODELISATION CLASSIFICATION : 0:00:04.834237\n",
      "Col = javascript, y_pred.shape = (10000,)\n",
      "Fin MODELISATION CLASSIFICATION : 0:00:04.791423\n",
      "Col = jquery, y_pred.shape = (10000,)\n",
      "Fin MODELISATION CLASSIFICATION : 0:00:04.744340\n",
      "Col = json, y_pred.shape = (10000,)\n",
      "Fin MODELISATION CLASSIFICATION : 0:00:04.751462\n",
      "Col = laravel, y_pred.shape = (10000,)\n",
      "Fin MODELISATION CLASSIFICATION : 0:00:04.911200\n",
      "Col = linux, y_pred.shape = (10000,)\n",
      "Fin MODELISATION CLASSIFICATION : 0:00:04.315322\n",
      "Col = mongodb, y_pred.shape = (10000,)\n",
      "Fin MODELISATION CLASSIFICATION : 0:00:04.828800\n",
      "Col = mysql, y_pred.shape = (10000,)\n",
      "Fin MODELISATION CLASSIFICATION : 0:00:04.725213\n",
      "Col = node.js, y_pred.shape = (10000,)\n",
      "Fin MODELISATION CLASSIFICATION : 0:00:05.011582\n",
      "Col = oracle, y_pred.shape = (10000,)\n",
      "Fin MODELISATION CLASSIFICATION : 0:00:04.273835\n",
      "Col = pandas, y_pred.shape = (10000,)\n",
      "Fin MODELISATION CLASSIFICATION : 0:00:04.400371\n",
      "Col = php, y_pred.shape = (10000,)\n",
      "Fin MODELISATION CLASSIFICATION : 0:00:04.618760\n",
      "Col = postgresql, y_pred.shape = (10000,)\n",
      "Fin MODELISATION CLASSIFICATION : 0:00:04.008453\n",
      "Col = python, y_pred.shape = (10000,)\n",
      "Fin MODELISATION CLASSIFICATION : 0:00:04.803052\n",
      "Col = python-3.x, y_pred.shape = (10000,)\n",
      "Fin MODELISATION CLASSIFICATION : 0:00:04.083334\n",
      "Col = r, y_pred.shape = (10000,)\n",
      "Fin MODELISATION CLASSIFICATION : 0:00:04.225543\n",
      "Col = react-native, y_pred.shape = (10000,)\n",
      "Fin MODELISATION CLASSIFICATION : 0:00:04.308112\n",
      "Col = reactjs, y_pred.shape = (10000,)\n",
      "Fin MODELISATION CLASSIFICATION : 0:00:04.492433\n",
      "Col = regex, y_pred.shape = (10000,)\n",
      "Fin MODELISATION CLASSIFICATION : 0:00:04.115199\n",
      "Col = ruby-on-rails, y_pred.shape = (10000,)\n",
      "Fin MODELISATION CLASSIFICATION : 0:00:04.291905\n",
      "Col = spring, y_pred.shape = (10000,)\n",
      "Fin MODELISATION CLASSIFICATION : 0:00:03.972630\n",
      "Col = spring-boot, y_pred.shape = (10000,)\n",
      "Fin MODELISATION CLASSIFICATION : 0:00:04.395400\n",
      "Col = sql, y_pred.shape = (10000,)\n",
      "Fin MODELISATION CLASSIFICATION : 0:00:04.210759\n",
      "Col = sql-server, y_pred.shape = (10000,)\n",
      "Fin MODELISATION CLASSIFICATION : 0:00:04.234350\n",
      "Col = string, y_pred.shape = (10000,)\n",
      "Fin MODELISATION CLASSIFICATION : 0:00:03.906450\n",
      "Col = swift, y_pred.shape = (10000,)\n",
      "Fin MODELISATION CLASSIFICATION : 0:00:04.202906\n",
      "Col = tensorflow, y_pred.shape = (10000,)\n",
      "Fin MODELISATION CLASSIFICATION : 0:00:04.193837\n",
      "Col = typescript, y_pred.shape = (10000,)\n",
      "Fin MODELISATION CLASSIFICATION : 0:00:05.105403\n",
      "Col = vba, y_pred.shape = (10000,)\n",
      "Fin MODELISATION CLASSIFICATION : 0:00:04.902471\n",
      "Col = vue.js, y_pred.shape = (10000,)\n",
      "Fin MODELISATION CLASSIFICATION : 0:00:04.899396\n",
      "Col = windows, y_pred.shape = (10000,)\n",
      "Fin MODELISATION CLASSIFICATION : 0:00:04.367021\n",
      "Col = wordpress, y_pred.shape = (10000,)\n",
      "Fin MODELISATION CLASSIFICATION : 0:00:03.830413\n",
      "Col = xml, y_pred.shape = (10000,)\n",
      "Fin MODELISATION CLASSIFICATION : 0:00:03.627073\n",
      "\n",
      "TOTAL 0:04:09.088852\n",
      "Fin GridSearch : 0:04:09.089636\n"
     ]
    }
   ],
   "source": [
    "clf_LR2 =LogisticRegression(random_state=0, solver='lbfgs', multi_class='ovr')\n",
    "param_grid_LR2 = {'C': [0.001,0.01,0.1,1,10,100],}\n",
    "\n",
    "debut = datetime.datetime.now()\n",
    "l_clf_LR2, l_y_pred_LR2 = stt2.test_gridSearch(X_train2, Y_train, X_test2, clf_LR2, param_grid_LR2)\n",
    "fin = datetime.datetime.now()\n",
    "print(\"Fin GridSearch : {}\".format(fin-debut))"
   ]
  },
  {
   "cell_type": "markdown",
   "metadata": {},
   "source": [
    "## Mesure"
   ]
  },
  {
   "cell_type": "code",
   "execution_count": 360,
   "metadata": {},
   "outputs": [],
   "source": [
    "df_body_LR_2 = pd.DataFrame(l_y_pred_LR2).T\n",
    "\n",
    "df_body_LR_2.index = Y_test.index\n",
    "df_body_LR_2.columns = Y_test.columns"
   ]
  },
  {
   "cell_type": "code",
   "execution_count": 361,
   "metadata": {},
   "outputs": [
    {
     "name": "stderr",
     "output_type": "stream",
     "text": [
      "/Users/seb/anaconda/lib/python3.6/site-packages/sklearn/metrics/classification.py:1135: UndefinedMetricWarning: F-score is ill-defined and being set to 0.0 due to no predicted samples.\n",
      "  'precision', 'predicted', average, warn_for)\n"
     ]
    }
   ],
   "source": [
    "m_df_LR_2 = pd.DataFrame(index=Y_test.columns.tolist(), columns=['f1_score', 'recall', 'C'])\n",
    "\n",
    "for i_y_pred, col in enumerate(Y_test.columns.tolist()):\n",
    "    #print(i_y_pred, col)\n",
    "    m_df_LR_2.loc[col, 'f1_score'] = f1_score(\n",
    "        y_true=Y_test[col].to_dense().ravel(), \n",
    "        y_pred=df_body_LR_2[col].to_dense().ravel())\n",
    "    \n",
    "    m_df_LR_2.loc[col, 'recall'] = recall_score(\n",
    "        y_true=Y_test[col].to_dense().ravel(), \n",
    "        y_pred=df_body_LR_2[col].to_dense().ravel())"
   ]
  },
  {
   "cell_type": "code",
   "execution_count": 364,
   "metadata": {},
   "outputs": [
    {
     "data": {
      "image/png": "[encoded data removed]",
      "text/plain": [
       "<matplotlib.figure.Figure at 0x1a382a0278>"
      ]
     },
     "metadata": {},
     "output_type": "display_data"
    }
   ],
   "source": [
    "m_df_LR_2[['f1_score', 'recall']].plot.bar(figsize=(20,10))\n",
    "plt.title('Score f1 et recall pour le LOGISTIC REGRESSION 2')\n",
    "plt.show()"
   ]
  },
  {
   "cell_type": "code",
   "execution_count": 365,
   "metadata": {},
   "outputs": [
    {
     "name": "stdout",
     "output_type": "stream",
     "text": [
      "f1_score    0.430939\n",
      "recall      0.339829\n",
      "C                NaN\n",
      "dtype: float64 \n",
      "\n",
      " f1_score    0.430939\n",
      "recall      0.339829\n",
      "C                NaN\n",
      "dtype: float64\n"
     ]
    }
   ],
   "source": [
    "print(np.mean(m_df_LR_2), '\\n\\n', np.mean(m_df_LR_2))"
   ]
  },
  {
   "cell_type": "code",
   "execution_count": 410,
   "metadata": {},
   "outputs": [],
   "source": [
    "m_df_LR_2.to_csv('SCORE_BODY_LOGISTIC2.csv', index=True)"
   ]
  },
  {
   "cell_type": "code",
   "execution_count": null,
   "metadata": {},
   "outputs": [],
   "source": []
  },
  {
   "cell_type": "markdown",
   "metadata": {},
   "source": [
    "# Title\n",
    "> Nous reprenons le même travail (avec les valeurs optimisées par la Régression Logistic) pour le Titre"
   ]
  },
  {
   "cell_type": "code",
   "execution_count": 268,
   "metadata": {},
   "outputs": [],
   "source": [
    "X = df1['Body']\n",
    "\n",
    "X_train_Title = df1.loc[X_train.index, 'Title']\n",
    "X_test_Title = df1.loc[X_test.index, 'Title']"
   ]
  },
  {
   "cell_type": "code",
   "execution_count": 267,
   "metadata": {},
   "outputs": [
    {
     "data": {
      "text/plain": [
       "Id\n",
       "52710201                       Odoo add font pictogram widget\n",
       "52729131    FFmpeg Processes keep running even after finis...\n",
       "52696272      How to check Current ViewController in Swift 3?\n",
       "52762482             Have html select always show same option\n",
       "52768732    Importing multiple CSV files from Google Cloud...\n",
       "Name: Title, dtype: object"
      ]
     },
     "execution_count": 267,
     "metadata": {},
     "output_type": "execute_result"
    }
   ],
   "source": [
    "X_train_Title.head()"
   ]
  },
  {
   "cell_type": "code",
   "execution_count": 270,
   "metadata": {},
   "outputs": [
    {
     "name": "stdout",
     "output_type": "stream",
     "text": [
      "Fin TfidfVectorizer : 0:00:12.346048\n"
     ]
    }
   ],
   "source": [
    "from sklearn.feature_extraction.text import CountVectorizer\n",
    "from sklearn.feature_extraction.text import TfidfTransformer, TfidfVectorizer\n",
    "\n",
    "vect_tfidf2 = TfidfVectorizer(\n",
    "    analyzer=\"word\",\n",
    "    min_df=100,\n",
    "    max_df=0.2,\n",
    "    tokenizer=tokenize,\n",
    "    preprocessor=preProcess_keep_Code,\n",
    "    stop_words=StopWord,        # Pas de stopWord car nous les cherchons\n",
    "    ngram_range=(1, 6)\n",
    ")\n",
    "\n",
    "debut = datetime.datetime.now()\n",
    "X_train_Title2 = vect_tfidf2.fit_transform(X_train_Title)\n",
    "X_test_Title2 = vect_tfidf2.transform(X_test_Title)\n",
    "fin = datetime.datetime.now()\n",
    "print(\"Fin TfidfVectorizer : {}\".format(fin-debut))"
   ]
  },
  {
   "cell_type": "code",
   "execution_count": 271,
   "metadata": {},
   "outputs": [
    {
     "name": "stdout",
     "output_type": "stream",
     "text": [
      "Col = .net, y_pred.shape = (10000,)\n",
      "Fin MODELISATION CLASSIFICATION : 0:00:03.007546\n",
      "Col = ajax, y_pred.shape = (10000,)\n",
      "Fin MODELISATION CLASSIFICATION : 0:00:03.211587\n",
      "Col = amazon-web-services, y_pred.shape = (10000,)\n",
      "Fin MODELISATION CLASSIFICATION : 0:00:03.293444\n",
      "Col = android, y_pred.shape = (10000,)\n",
      "Fin MODELISATION CLASSIFICATION : 0:00:03.413262\n",
      "Col = android-studio, y_pred.shape = (10000,)\n",
      "Fin MODELISATION CLASSIFICATION : 0:00:03.169918\n",
      "Col = angular, y_pred.shape = (10000,)\n",
      "Fin MODELISATION CLASSIFICATION : 0:00:03.001744\n",
      "Col = apache-spark, y_pred.shape = (10000,)\n",
      "Fin MODELISATION CLASSIFICATION : 0:00:02.886126\n",
      "Col = api, y_pred.shape = (10000,)\n",
      "Fin MODELISATION CLASSIFICATION : 0:00:03.116021\n",
      "Col = arrays, y_pred.shape = (10000,)\n",
      "Fin MODELISATION CLASSIFICATION : 0:00:03.150435\n",
      "Col = asp.net, y_pred.shape = (10000,)\n",
      "Fin MODELISATION CLASSIFICATION : 0:00:03.113105\n",
      "Col = azure, y_pred.shape = (10000,)\n",
      "Fin MODELISATION CLASSIFICATION : 0:00:03.009084\n",
      "Col = bash, y_pred.shape = (10000,)\n",
      "Fin MODELISATION CLASSIFICATION : 0:00:02.998889\n",
      "Col = c, y_pred.shape = (10000,)\n",
      "Fin MODELISATION CLASSIFICATION : 0:00:02.707106\n",
      "Col = c#, y_pred.shape = (10000,)\n",
      "Fin MODELISATION CLASSIFICATION : 0:00:03.224816\n",
      "Col = c++, y_pred.shape = (10000,)\n",
      "Fin MODELISATION CLASSIFICATION : 0:00:03.191145\n",
      "Col = css, y_pred.shape = (10000,)\n",
      "Fin MODELISATION CLASSIFICATION : 0:00:02.968911\n",
      "Col = database, y_pred.shape = (10000,)\n",
      "Fin MODELISATION CLASSIFICATION : 0:00:02.715047\n",
      "Col = dataframe, y_pred.shape = (10000,)\n",
      "Fin MODELISATION CLASSIFICATION : 0:00:02.743339\n",
      "Col = django, y_pred.shape = (10000,)\n",
      "Fin MODELISATION CLASSIFICATION : 0:00:02.761229\n",
      "Col = docker, y_pred.shape = (10000,)\n",
      "Fin MODELISATION CLASSIFICATION : 0:00:02.819148\n",
      "Col = excel, y_pred.shape = (10000,)\n",
      "Fin MODELISATION CLASSIFICATION : 0:00:03.082954\n",
      "Col = firebase, y_pred.shape = (10000,)\n",
      "Fin MODELISATION CLASSIFICATION : 0:00:03.016655\n",
      "Col = git, y_pred.shape = (10000,)\n",
      "Fin MODELISATION CLASSIFICATION : 0:00:02.916795\n",
      "Col = html, y_pred.shape = (10000,)\n",
      "Fin MODELISATION CLASSIFICATION : 0:00:03.039361\n",
      "Col = ios, y_pred.shape = (10000,)\n",
      "Fin MODELISATION CLASSIFICATION : 0:00:03.487153\n",
      "Col = java, y_pred.shape = (10000,)\n",
      "Fin MODELISATION CLASSIFICATION : 0:00:03.358731\n",
      "Col = javascript, y_pred.shape = (10000,)\n",
      "Fin MODELISATION CLASSIFICATION : 0:00:03.387683\n",
      "Col = jquery, y_pred.shape = (10000,)\n",
      "Fin MODELISATION CLASSIFICATION : 0:00:03.208107\n",
      "Col = json, y_pred.shape = (10000,)\n",
      "Fin MODELISATION CLASSIFICATION : 0:00:03.229162\n",
      "Col = laravel, y_pred.shape = (10000,)\n",
      "Fin MODELISATION CLASSIFICATION : 0:00:02.904842\n",
      "Col = linux, y_pred.shape = (10000,)\n",
      "Fin MODELISATION CLASSIFICATION : 0:00:02.845873\n",
      "Col = mongodb, y_pred.shape = (10000,)\n",
      "Fin MODELISATION CLASSIFICATION : 0:00:02.758739\n",
      "Col = mysql, y_pred.shape = (10000,)\n",
      "Fin MODELISATION CLASSIFICATION : 0:00:03.051849\n",
      "Col = node.js, y_pred.shape = (10000,)\n",
      "Fin MODELISATION CLASSIFICATION : 0:00:02.865688\n",
      "Col = oracle, y_pred.shape = (10000,)\n",
      "Fin MODELISATION CLASSIFICATION : 0:00:02.864191\n",
      "Col = pandas, y_pred.shape = (10000,)\n",
      "Fin MODELISATION CLASSIFICATION : 0:00:03.106090\n",
      "Col = php, y_pred.shape = (10000,)\n",
      "Fin MODELISATION CLASSIFICATION : 0:00:03.066451\n",
      "Col = postgresql, y_pred.shape = (10000,)\n",
      "Fin MODELISATION CLASSIFICATION : 0:00:02.745031\n",
      "Col = python, y_pred.shape = (10000,)\n",
      "Fin MODELISATION CLASSIFICATION : 0:00:03.161517\n",
      "Col = python-3.x, y_pred.shape = (10000,)\n",
      "Fin MODELISATION CLASSIFICATION : 0:00:03.054213\n",
      "Col = r, y_pred.shape = (10000,)\n",
      "Fin MODELISATION CLASSIFICATION : 0:00:03.002741\n",
      "Col = react-native, y_pred.shape = (10000,)\n",
      "Fin MODELISATION CLASSIFICATION : 0:00:03.259597\n",
      "Col = reactjs, y_pred.shape = (10000,)\n",
      "Fin MODELISATION CLASSIFICATION : 0:00:03.163237\n",
      "Col = regex, y_pred.shape = (10000,)\n",
      "Fin MODELISATION CLASSIFICATION : 0:00:03.041580\n",
      "Col = ruby-on-rails, y_pred.shape = (10000,)\n",
      "Fin MODELISATION CLASSIFICATION : 0:00:02.849302\n",
      "Col = spring, y_pred.shape = (10000,)\n",
      "Fin MODELISATION CLASSIFICATION : 0:00:03.059776\n",
      "Col = spring-boot, y_pred.shape = (10000,)\n",
      "Fin MODELISATION CLASSIFICATION : 0:00:03.182340\n",
      "Col = sql, y_pred.shape = (10000,)\n",
      "Fin MODELISATION CLASSIFICATION : 0:00:03.059079\n",
      "Col = sql-server, y_pred.shape = (10000,)\n",
      "Fin MODELISATION CLASSIFICATION : 0:00:02.963658\n",
      "Col = string, y_pred.shape = (10000,)\n",
      "Fin MODELISATION CLASSIFICATION : 0:00:02.612855\n",
      "Col = swift, y_pred.shape = (10000,)\n",
      "Fin MODELISATION CLASSIFICATION : 0:00:03.042548\n",
      "Col = tensorflow, y_pred.shape = (10000,)\n",
      "Fin MODELISATION CLASSIFICATION : 0:00:03.068996\n",
      "Col = typescript, y_pred.shape = (10000,)\n",
      "Fin MODELISATION CLASSIFICATION : 0:00:03.103627\n",
      "Col = vba, y_pred.shape = (10000,)\n",
      "Fin MODELISATION CLASSIFICATION : 0:00:02.908049\n",
      "Col = vue.js, y_pred.shape = (10000,)\n",
      "Fin MODELISATION CLASSIFICATION : 0:00:02.731171\n",
      "Col = windows, y_pred.shape = (10000,)\n",
      "Fin MODELISATION CLASSIFICATION : 0:00:02.716874\n",
      "Col = wordpress, y_pred.shape = (10000,)\n",
      "Fin MODELISATION CLASSIFICATION : 0:00:02.733601\n",
      "Col = xml, y_pred.shape = (10000,)\n",
      "Fin MODELISATION CLASSIFICATION : 0:00:03.165241\n",
      "\n",
      "TOTAL 0:02:55.322013\n",
      "Fin GridSearch : 0:02:55.322722\n"
     ]
    }
   ],
   "source": [
    "clf=LogisticRegression(random_state=0, solver='lbfgs', multi_class='multinomial')\n",
    "param_grid = {'C': [0.001,0.01,0.1,1,10,100],}\n",
    "\n",
    "debut = datetime.datetime.now()\n",
    "l_clf_title, l_y_pred_title = stt2.test_gridSearch(X_train_Title2, Y_train, X_test_Title2, clf, param_grid)\n",
    "fin = datetime.datetime.now()\n",
    "print(\"Fin GridSearch : {}\".format(fin-debut))"
   ]
  },
  {
   "cell_type": "code",
   "execution_count": 277,
   "metadata": {},
   "outputs": [
    {
     "name": "stderr",
     "output_type": "stream",
     "text": [
      "/Users/seb/anaconda/lib/python3.6/site-packages/sklearn/metrics/classification.py:1135: UndefinedMetricWarning: F-score is ill-defined and being set to 0.0 due to no predicted samples.\n",
      "  'precision', 'predicted', average, warn_for)\n"
     ]
    }
   ],
   "source": [
    "m_df_logistic_title = pd.DataFrame(index=Y_train.columns.tolist(), columns=['f1_score', 'recall', 'C'])\n",
    "\n",
    "for i_y_pred, col in enumerate(Y_train.columns.tolist()):\n",
    "    #print(i_y_pred, col)\n",
    "    m_df_logistic_title.loc[col, 'f1_score'] = f1_score(\n",
    "        y_true=Y_test[col].to_dense().ravel(), \n",
    "        y_pred=l_y_pred_title[i_y_pred])\n",
    "    \n",
    "    m_df_logistic_title.loc[col, 'recall'] = recall_score(\n",
    "        y_true=Y_test[col].to_dense().ravel(), \n",
    "        y_pred=l_y_pred_title[i_y_pred])\n",
    "    \n",
    "    m_df_logistic_title.loc[col, 'C'] = (l_clf_title[i_y_pred]).best_params_['C']\n",
    "    #print(i_clf.best_score_)"
   ]
  },
  {
   "cell_type": "code",
   "execution_count": 279,
   "metadata": {},
   "outputs": [
    {
     "data": {
      "image/png": "[encoded data removed]",
      "text/plain": [
       "<matplotlib.figure.Figure at 0x1a9cfc13c8>"
      ]
     },
     "metadata": {},
     "output_type": "display_data"
    }
   ],
   "source": [
    "m_df_logistic_title[['f1_score', 'recall']].plot.bar(figsize=(20,10))\n",
    "plt.title('Score f1 et recall pour la regression Logistic sur Title')\n",
    "plt.show()"
   ]
  },
  {
   "cell_type": "code",
   "execution_count": 286,
   "metadata": {},
   "outputs": [
    {
     "name": "stdout",
     "output_type": "stream",
     "text": [
      "f1_score    0.386681\n",
      "recall      0.289257\n",
      "C           6.689862\n",
      "dtype: float64 \n",
      "\n",
      " f1_score    0.412952\n",
      "recall      0.305809\n",
      "C           4.588052\n",
      "dtype: float64\n"
     ]
    }
   ],
   "source": [
    "print(np.mean(m_df_logistic_title), '\\n\\n', np.mean(m_df_logistic))"
   ]
  },
  {
   "cell_type": "markdown",
   "metadata": {},
   "source": [
    "## LOGISTIC2 "
   ]
  },
  {
   "cell_type": "code",
   "execution_count": 367,
   "metadata": {},
   "outputs": [
    {
     "name": "stdout",
     "output_type": "stream",
     "text": [
      "Col = .net, y_pred.shape = (10000,)\n",
      "Fin MODELISATION CLASSIFICATION : 0:00:02.280908\n",
      "Col = ajax, y_pred.shape = (10000,)\n",
      "Fin MODELISATION CLASSIFICATION : 0:00:02.483175\n",
      "Col = amazon-web-services, y_pred.shape = (10000,)\n",
      "Fin MODELISATION CLASSIFICATION : 0:00:02.436267\n",
      "Col = android, y_pred.shape = (10000,)\n",
      "Fin MODELISATION CLASSIFICATION : 0:00:02.642584\n",
      "Col = android-studio, y_pred.shape = (10000,)\n",
      "Fin MODELISATION CLASSIFICATION : 0:00:02.504522\n",
      "Col = angular, y_pred.shape = (10000,)\n",
      "Fin MODELISATION CLASSIFICATION : 0:00:02.428186\n",
      "Col = apache-spark, y_pred.shape = (10000,)\n",
      "Fin MODELISATION CLASSIFICATION : 0:00:02.351790\n",
      "Col = api, y_pred.shape = (10000,)\n",
      "Fin MODELISATION CLASSIFICATION : 0:00:02.178476\n",
      "Col = arrays, y_pred.shape = (10000,)\n",
      "Fin MODELISATION CLASSIFICATION : 0:00:02.192826\n",
      "Col = asp.net, y_pred.shape = (10000,)\n",
      "Fin MODELISATION CLASSIFICATION : 0:00:02.427537\n",
      "Col = azure, y_pred.shape = (10000,)\n",
      "Fin MODELISATION CLASSIFICATION : 0:00:02.239519\n",
      "Col = bash, y_pred.shape = (10000,)\n",
      "Fin MODELISATION CLASSIFICATION : 0:00:02.370051\n",
      "Col = c, y_pred.shape = (10000,)\n",
      "Fin MODELISATION CLASSIFICATION : 0:00:02.194572\n",
      "Col = c#, y_pred.shape = (10000,)\n",
      "Fin MODELISATION CLASSIFICATION : 0:00:02.692876\n",
      "Col = c++, y_pred.shape = (10000,)\n",
      "Fin MODELISATION CLASSIFICATION : 0:00:02.295370\n",
      "Col = css, y_pred.shape = (10000,)\n",
      "Fin MODELISATION CLASSIFICATION : 0:00:02.477722\n",
      "Col = database, y_pred.shape = (10000,)\n",
      "Fin MODELISATION CLASSIFICATION : 0:00:02.221498\n",
      "Col = dataframe, y_pred.shape = (10000,)\n",
      "Fin MODELISATION CLASSIFICATION : 0:00:02.204766\n",
      "Col = django, y_pred.shape = (10000,)\n",
      "Fin MODELISATION CLASSIFICATION : 0:00:02.318592\n",
      "Col = docker, y_pred.shape = (10000,)\n",
      "Fin MODELISATION CLASSIFICATION : 0:00:02.326799\n",
      "Col = excel, y_pred.shape = (10000,)\n",
      "Fin MODELISATION CLASSIFICATION : 0:00:02.395678\n",
      "Col = firebase, y_pred.shape = (10000,)\n",
      "Fin MODELISATION CLASSIFICATION : 0:00:02.344280\n",
      "Col = git, y_pred.shape = (10000,)\n",
      "Fin MODELISATION CLASSIFICATION : 0:00:02.363529\n",
      "Col = html, y_pred.shape = (10000,)\n",
      "Fin MODELISATION CLASSIFICATION : 0:00:02.595406\n",
      "Col = ios, y_pred.shape = (10000,)\n",
      "Fin MODELISATION CLASSIFICATION : 0:00:02.637186\n",
      "Col = java, y_pred.shape = (10000,)\n",
      "Fin MODELISATION CLASSIFICATION : 0:00:02.563557\n",
      "Col = javascript, y_pred.shape = (10000,)\n",
      "Fin MODELISATION CLASSIFICATION : 0:00:02.618355\n",
      "Col = jquery, y_pred.shape = (10000,)\n",
      "Fin MODELISATION CLASSIFICATION : 0:00:02.342656\n",
      "Col = json, y_pred.shape = (10000,)\n",
      "Fin MODELISATION CLASSIFICATION : 0:00:02.398704\n",
      "Col = laravel, y_pred.shape = (10000,)\n",
      "Fin MODELISATION CLASSIFICATION : 0:00:02.574374\n",
      "Col = linux, y_pred.shape = (10000,)\n",
      "Fin MODELISATION CLASSIFICATION : 0:00:02.293971\n",
      "Col = mongodb, y_pred.shape = (10000,)\n",
      "Fin MODELISATION CLASSIFICATION : 0:00:02.352266\n",
      "Col = mysql, y_pred.shape = (10000,)\n",
      "Fin MODELISATION CLASSIFICATION : 0:00:02.295632\n",
      "Col = node.js, y_pred.shape = (10000,)\n",
      "Fin MODELISATION CLASSIFICATION : 0:00:02.624399\n",
      "Col = oracle, y_pred.shape = (10000,)\n",
      "Fin MODELISATION CLASSIFICATION : 0:00:02.370926\n",
      "Col = pandas, y_pred.shape = (10000,)\n",
      "Fin MODELISATION CLASSIFICATION : 0:00:02.564647\n",
      "Col = php, y_pred.shape = (10000,)\n",
      "Fin MODELISATION CLASSIFICATION : 0:00:02.790075\n",
      "Col = postgresql, y_pred.shape = (10000,)\n",
      "Fin MODELISATION CLASSIFICATION : 0:00:02.244800\n",
      "Col = python, y_pred.shape = (10000,)\n",
      "Fin MODELISATION CLASSIFICATION : 0:00:02.382752\n",
      "Col = python-3.x, y_pred.shape = (10000,)\n",
      "Fin MODELISATION CLASSIFICATION : 0:00:02.226915\n",
      "Col = r, y_pred.shape = (10000,)\n",
      "Fin MODELISATION CLASSIFICATION : 0:00:02.414040\n",
      "Col = react-native, y_pred.shape = (10000,)\n",
      "Fin MODELISATION CLASSIFICATION : 0:00:02.673093\n",
      "Col = reactjs, y_pred.shape = (10000,)\n",
      "Fin MODELISATION CLASSIFICATION : 0:00:02.587078\n",
      "Col = regex, y_pred.shape = (10000,)\n",
      "Fin MODELISATION CLASSIFICATION : 0:00:02.567925\n",
      "Col = ruby-on-rails, y_pred.shape = (10000,)\n",
      "Fin MODELISATION CLASSIFICATION : 0:00:02.299938\n",
      "Col = spring, y_pred.shape = (10000,)\n",
      "Fin MODELISATION CLASSIFICATION : 0:00:02.392160\n",
      "Col = spring-boot, y_pred.shape = (10000,)\n",
      "Fin MODELISATION CLASSIFICATION : 0:00:02.262442\n",
      "Col = sql, y_pred.shape = (10000,)\n",
      "Fin MODELISATION CLASSIFICATION : 0:00:02.410873\n",
      "Col = sql-server, y_pred.shape = (10000,)\n",
      "Fin MODELISATION CLASSIFICATION : 0:00:02.387706\n",
      "Col = string, y_pred.shape = (10000,)\n",
      "Fin MODELISATION CLASSIFICATION : 0:00:02.219176\n",
      "Col = swift, y_pred.shape = (10000,)\n",
      "Fin MODELISATION CLASSIFICATION : 0:00:02.645223\n",
      "Col = tensorflow, y_pred.shape = (10000,)\n",
      "Fin MODELISATION CLASSIFICATION : 0:00:02.384397\n",
      "Col = typescript, y_pred.shape = (10000,)\n",
      "Fin MODELISATION CLASSIFICATION : 0:00:02.390608\n",
      "Col = vba, y_pred.shape = (10000,)\n",
      "Fin MODELISATION CLASSIFICATION : 0:00:02.391961\n",
      "Col = vue.js, y_pred.shape = (10000,)\n",
      "Fin MODELISATION CLASSIFICATION : 0:00:02.333484\n",
      "Col = windows, y_pred.shape = (10000,)\n",
      "Fin MODELISATION CLASSIFICATION : 0:00:02.393169\n",
      "Col = wordpress, y_pred.shape = (10000,)\n",
      "Fin MODELISATION CLASSIFICATION : 0:00:02.693068\n",
      "Col = xml, y_pred.shape = (10000,)\n",
      "Fin MODELISATION CLASSIFICATION : 0:00:02.508572\n",
      "\n",
      "TOTAL 0:02:20.212672\n",
      "Fin GridSearch : 0:02:20.213596\n"
     ]
    }
   ],
   "source": [
    "clf_LR2_Title=LogisticRegression(random_state=0, solver='lbfgs', multi_class='ovr')\n",
    "param_grid_LR2_Title = {'C': [0.001,0.01,0.1,1,10,100],}\n",
    "\n",
    "debut = datetime.datetime.now()\n",
    "l_clf_title_LR2, l_y_pred_title_LR2 = stt2.test_gridSearch(X_train_Title2, Y_train, X_test_Title2, \n",
    "                                                   clf_LR2_Title, param_grid_LR2_Title)\n",
    "fin = datetime.datetime.now()\n",
    "print(\"Fin GridSearch : {}\".format(fin-debut))"
   ]
  },
  {
   "cell_type": "markdown",
   "metadata": {},
   "source": [
    "### Mesures"
   ]
  },
  {
   "cell_type": "code",
   "execution_count": 368,
   "metadata": {},
   "outputs": [],
   "source": [
    "df_title_LR_2 = pd.DataFrame(l_y_pred_title_LR2).T\n",
    "\n",
    "df_title_LR_2.index = Y_test.index\n",
    "df_title_LR_2.columns = Y_test.columns"
   ]
  },
  {
   "cell_type": "code",
   "execution_count": 369,
   "metadata": {},
   "outputs": [
    {
     "name": "stderr",
     "output_type": "stream",
     "text": [
      "/Users/seb/anaconda/lib/python3.6/site-packages/sklearn/metrics/classification.py:1135: UndefinedMetricWarning: F-score is ill-defined and being set to 0.0 due to no predicted samples.\n",
      "  'precision', 'predicted', average, warn_for)\n"
     ]
    }
   ],
   "source": [
    "m_df_title_LR_2 = pd.DataFrame(index=Y_test.columns.tolist(), columns=['f1_score', 'recall', 'C'])\n",
    "\n",
    "for i_y_pred, col in enumerate(Y_test.columns.tolist()):\n",
    "    #print(i_y_pred, col)\n",
    "    m_df_title_LR_2.loc[col, 'f1_score'] = f1_score(\n",
    "        y_true=Y_test[col].to_dense().ravel(), \n",
    "        y_pred=df_title_LR_2[col].to_dense().ravel())\n",
    "    \n",
    "    m_df_title_LR_2.loc[col, 'recall'] = recall_score(\n",
    "        y_true=Y_test[col].to_dense().ravel(), \n",
    "        y_pred=df_title_LR_2[col].to_dense().ravel())"
   ]
  },
  {
   "cell_type": "code",
   "execution_count": 370,
   "metadata": {},
   "outputs": [
    {
     "data": {
      "image/png": "[encoded data removed]",
      "text/plain": [
       "<matplotlib.figure.Figure at 0x1a8ec21080>"
      ]
     },
     "metadata": {},
     "output_type": "display_data"
    }
   ],
   "source": [
    "m_df_title_LR_2[['f1_score', 'recall']].plot.bar(figsize=(20,10))\n",
    "plt.title('Score f1 et recall pour la regression Logistic 2 sur Title')\n",
    "plt.show()"
   ]
  },
  {
   "cell_type": "code",
   "execution_count": 411,
   "metadata": {},
   "outputs": [],
   "source": [
    "m_df_title_LR_2.to_csv('SCORE_TITLE_LOGISTIC2.csv', index=True)"
   ]
  },
  {
   "cell_type": "markdown",
   "metadata": {},
   "source": [
    "# MODELISATION TITLE OR BODY"
   ]
  },
  {
   "cell_type": "markdown",
   "metadata": {},
   "source": [
    "> Nous avons des score de recall qui sont assez bons pour le Body et aussi pour le Titre\n",
    ">\n",
    "> Si ces 2 scores étaient bons pour des POSTS différents cela nous donnerait quelque chose de meilleur encore.\n",
    "\n",
    "> Nous pouvons supposer que les utilisateurs vont donner des informations, soit dans le titre soit dans le Corps\n",
    "> \n",
    "> Si c'est bien le cas un OU entre les 2 modélisation est à tester"
   ]
  },
  {
   "cell_type": "code",
   "execution_count": 395,
   "metadata": {},
   "outputs": [],
   "source": [
    "df_body_OR_title_LR_2 = pd.DataFrame(np.where(np.logical_or(df_body_LR_2, df_title_LR_2), 1, 0),\n",
    "                                     columns=df_body_LR_2.columns, index=df_body_LR_2.index)                       "
   ]
  },
  {
   "cell_type": "code",
   "execution_count": 398,
   "metadata": {},
   "outputs": [
    {
     "name": "stderr",
     "output_type": "stream",
     "text": [
      "/Users/seb/anaconda/lib/python3.6/site-packages/sklearn/metrics/classification.py:1135: UndefinedMetricWarning: F-score is ill-defined and being set to 0.0 due to no predicted samples.\n",
      "  'precision', 'predicted', average, warn_for)\n"
     ]
    }
   ],
   "source": [
    "m_df_logistic_title_and_body2 = pd.DataFrame(index=Y_train.columns.tolist(), \n",
    "                                             columns=['f1_score', 'recall', 'C'])\n",
    "\n",
    "for i_y_pred, col in enumerate(Y_train.columns.tolist()):\n",
    "    #print(i_y_pred, col)\n",
    "    m_df_logistic_title_and_body2.loc[col, 'f1_score'] = f1_score(\n",
    "        y_true=Y_test[col].to_dense().ravel(), \n",
    "        y_pred=df_body_OR_title_LR_2[col].ravel())\n",
    "    \n",
    "    m_df_logistic_title_and_body2.loc[col, 'recall'] = recall_score(\n",
    "        y_true=Y_test[col].to_dense().ravel(), \n",
    "        y_pred=df_body_OR_title_LR_2[col].ravel())"
   ]
  },
  {
   "cell_type": "code",
   "execution_count": 399,
   "metadata": {},
   "outputs": [
    {
     "data": {
      "image/png": "[encoded data removed]",
      "text/plain": [
       "<matplotlib.figure.Figure at 0x1a2e6dd978>"
      ]
     },
     "metadata": {},
     "output_type": "display_data"
    }
   ],
   "source": [
    "m_df_logistic_title_and_body2[['f1_score', 'recall']].plot.bar(figsize=(20,10))\n",
    "plt.title('Score f1 et recall pour la regression Logistic2 sur Title OR Body')\n",
    "plt.show()"
   ]
  },
  {
   "cell_type": "code",
   "execution_count": 412,
   "metadata": {},
   "outputs": [],
   "source": [
    "m_df_logistic_title_and_body2.to_csv('SCORE_TITLE_AND_BODY_LOGISTIC2.csv', index=True)"
   ]
  },
  {
   "cell_type": "markdown",
   "metadata": {},
   "source": [
    "> Les scores sont effectivement meilleurs et cela n'a pas dégradé la valeur f1_score"
   ]
  },
  {
   "cell_type": "code",
   "execution_count": 391,
   "metadata": {},
   "outputs": [
    {
     "name": "stdout",
     "output_type": "stream",
     "text": [
      "Score moyen des F1\n",
      "Pour le titre\n",
      " 0.3889583030807138 \n",
      "\n",
      "Pour le Body\n",
      " 0.43093912159062536 \n",
      "\n",
      "Pour le OR entre les 2 modélisations\n",
      " 0.53686612706268\n"
     ]
    }
   ],
   "source": [
    "print('Score moyen des F1')\n",
    "print('Pour le titre\\n', np.mean(m_df_title_LR_2.f1_score), \n",
    "      '\\n\\nPour le Body\\n', np.mean(m_df_LR_2.f1_score), \n",
    "      '\\n\\nPour le OR entre les 2 modélisations\\n', \n",
    "      np.mean(m_df_logistic_title_and_body2.f1_score))"
   ]
  },
  {
   "cell_type": "code",
   "execution_count": 390,
   "metadata": {},
   "outputs": [
    {
     "name": "stdout",
     "output_type": "stream",
     "text": [
      "Score moyen des recall\n",
      "Pour le titre\n",
      " 0.29103081212514303 \n",
      "\n",
      "Pour le Body\n",
      " 0.3398286013097282 \n",
      "\n",
      "Pour le OR entre les 2 modélisations\n",
      " 0.4793234908224303\n"
     ]
    }
   ],
   "source": [
    "print('Score moyen des recall')\n",
    "print('Pour le titre\\n', np.mean(m_df_title_LR_2.recall), \n",
    "      '\\n\\nPour le Body\\n', np.mean(m_df_LR_2.recall), \n",
    "      '\\n\\nPour le OR entre les 2 modélisations\\n', \n",
    "      np.mean(m_df_logistic_title_and_body2.recall))"
   ]
  },
  {
   "cell_type": "markdown",
   "metadata": {},
   "source": [
    "## Mesure de Comparaison du Modèle"
   ]
  },
  {
   "cell_type": "markdown",
   "metadata": {},
   "source": [
    "> Nous pouvons désormais considerer ce modèle et ajouter une mesure qui nous permettra de comparer avec la méthode non supervisée\n",
    ">\n",
    "> Pour cela il peut sembler judicieux de compter le nombre de tags (ou plutôt le pourcentage) valables pour chaque POST, ainsi nous établirons la moyenne de ce pourcentage pour la Note finale "
   ]
  },
  {
   "cell_type": "code",
   "execution_count": 405,
   "metadata": {},
   "outputs": [
    {
     "data": {
      "text/plain": [
       "57.242"
      ]
     },
     "execution_count": 405,
     "metadata": {},
     "output_type": "execute_result"
    }
   ],
   "source": [
    "# Nombre de Tags moyens justes\n",
    "u1 = np.sum(df_body_OR_title_LR_2==Y_test.to_dense(), axis=1)\n",
    "np.mean(u1)"
   ]
  },
  {
   "cell_type": "code",
   "execution_count": 406,
   "metadata": {},
   "outputs": [
    {
     "data": {
      "text/plain": [
       "0.9869310344827549"
      ]
     },
     "execution_count": 406,
     "metadata": {},
     "output_type": "execute_result"
    }
   ],
   "source": [
    "# Moyenne des taux de Tags justes\n",
    "u1 = np.sum(df_body_OR_title_LR_2==Y_test.to_dense(), axis=1)/(len(Y_test.columns.tolist()))\n",
    "np.mean(u1)"
   ]
  },
  {
   "cell_type": "markdown",
   "metadata": {},
   "source": [
    "# Mise en forme des résultats des Classifiers"
   ]
  },
  {
   "cell_type": "code",
   "execution_count": 421,
   "metadata": {},
   "outputs": [
    {
     "data": {
      "image/png": "[encoded data removed]",
      "text/plain": [
       "<matplotlib.figure.Figure at 0x1a3e56a470>"
      ]
     },
     "metadata": {},
     "output_type": "display_data"
    }
   ],
   "source": [
    "g_df_BODY_LR2 = pd.read_csv('SCORE_BODY_LOGISTIC2.csv', index_col=['Unnamed: 0'])[['f1_score', 'recall']]\n",
    "g_df_TITLE_LR2 = pd.read_csv('SCORE_TITLE_LOGISTIC2.csv', index_col=['Unnamed: 0'])[['f1_score', 'recall']]\n",
    "g_df_BODY_AND_TITLE_LR2 = pd.read_csv('SCORE_TITLE_AND_BODY_LOGISTIC2.csv', \n",
    "                                    index_col=['Unnamed: 0'])[['f1_score', 'recall']]\n",
    "g_df_BODY_LR = pd.read_csv('SCORE_LOGISTIC.csv', index_col=['Unnamed: 0'])[['f1_score', 'recall']]\n",
    "g_df_BODY_NB = pd.read_csv('SCORE_NAIVE_BAYES.csv', index_col=['Unnamed: 0'])[['f1_score', 'recall']]\n",
    "g_df_BODY_RF = pd.read_csv('SCORE_RANDOM_FOREST.csv', index_col=['Unnamed: 0'])[['f1_score', 'recall']]\n",
    "\n",
    "TOTAL = pd.concat(\n",
    "    [\n",
    "        g_df_BODY_LR2[['recall']], \n",
    "        g_df_TITLE_LR2[['recall']],\n",
    "        g_df_BODY_AND_TITLE_LR2[['recall']], \n",
    "        g_df_BODY_LR[['recall']],\n",
    "        g_df_BODY_NB[['recall']],\n",
    "        g_df_BODY_RF[['recall']],\n",
    "    ], axis=1)\n",
    "TOTAL.columns = ['Logistic2_body', 'Logistic2_title', 'Logistic2_title_OR_body', \n",
    "                'Logistic1_body', 'Naive_BAYES_body', 'Random_Forest_body']\n",
    "\n",
    "TOTAL.plot.barh(figsize=(20,40), width=0.65)\n",
    "plt.title(\"Score 'recall' pour les différents Classifieurs par Tag\")\n",
    "plt.show()"
   ]
  },
  {
   "cell_type": "code",
   "execution_count": null,
   "metadata": {},
   "outputs": [],
   "source": []
  },
  {
   "cell_type": "markdown",
   "metadata": {},
   "source": [
    "# MODELE"
   ]
  },
  {
   "cell_type": "code",
   "execution_count": null,
   "metadata": {},
   "outputs": [],
   "source": []
  }
 ],
 "metadata": {
  "kernelspec": {
   "display_name": "Python 3",
   "language": "python",
   "name": "python3"
  },
  "language_info": {
   "codemirror_mode": {
    "name": "ipython",
    "version": 3
   },
   "file_extension": ".py",
   "mimetype": "text/x-python",
   "name": "python",
   "nbconvert_exporter": "python",
   "pygments_lexer": "ipython3",
   "version": "3.6.3"
  }
 },
 "nbformat": 4,
 "nbformat_minor": 2
}
